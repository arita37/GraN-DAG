{
 "cells": [
  {
   "cell_type": "code",
   "execution_count": 1,
   "metadata": {},
   "outputs": [
    {
     "name": "stdout",
     "output_type": "stream",
     "text": [
      "Christian Schuhegger \n",
      "last updated: 2018-06-22 \n",
      "\n",
      "CPython 3.6.4\n",
      "IPython 6.2.1\n",
      "\n",
      "numpy 1.14.2\n",
      "xarray 0.10.3\n",
      "scipy 1.0.1\n",
      "pandas 0.22.0\n",
      "sklearn 0.19.1\n",
      "matplotlib 2.2.2\n",
      "seaborn 0.8.1\n",
      "qgrid 1.0.2\n",
      "rpy2 2.9.1\n",
      "libpgm n\u0007\n",
      "pgmpy n\u0007\n",
      "networkx 2.1\n",
      "graphviz 0.8.3\n",
      "pybnl n\u0007\n",
      "pytest 3.5.0\n"
     ]
    }
   ],
   "source": [
    "%load_ext watermark\n",
    "%watermark -a 'Christian Schuhegger' -u -d -v -p numpy,xarray,scipy,pandas,sklearn,matplotlib,seaborn,qgrid,rpy2,libpgm,pgmpy,networkx,graphviz,pybnl,pytest"
   ]
  },
  {
   "cell_type": "markdown",
   "metadata": {},
   "source": [
    "Access other versions via nbviwer:\n",
    "[https://nbviewer.jupyter.org/github/cs224/pybnl/blob/4bd08e6e48194dcddeadf0f202b910e3e224753b/examples/010-2018-06-15-marks.ipynb](https://nbviewer.jupyter.org/github/cs224/pybnl/blob/4bd08e6e48194dcddeadf0f202b910e3e224753b/examples/010-2018-06-15-marks.ipynb)"
   ]
  },
  {
   "cell_type": "code",
   "execution_count": 2,
   "metadata": {},
   "outputs": [],
   "source": [
    "%matplotlib inline\n",
    "import numpy as np, pandas as pd, xarray as xr, matplotlib.pyplot as plt, seaborn as sns\n",
    "import sklearn, sklearn.pipeline\n",
    "import networkx as nx, graphviz, networkx.algorithms.dag\n",
    "import random\n",
    "\n",
    "pd.set_option('display.max_columns', 500)\n",
    "pd.set_option('display.width', 1000)\n",
    "# pd.set_option('display.float_format', lambda x: '%.2f' % x)\n",
    "np.set_printoptions(edgeitems=10)\n",
    "np.set_printoptions(suppress=True)\n",
    "np.core.arrayprint._line_width = 180\n",
    "\n",
    "sns.set()"
   ]
  },
  {
   "cell_type": "code",
   "execution_count": 3,
   "metadata": {},
   "outputs": [
    {
     "data": {
      "text/html": [
       "<style>.container { width:70% !important; }</style>"
      ],
      "text/plain": [
       "<IPython.core.display.HTML object>"
      ]
     },
     "metadata": {},
     "output_type": "display_data"
    }
   ],
   "source": [
    "from IPython.display import display, HTML\n",
    "\n",
    "from IPython.display import display_html\n",
    "def display_side_by_side(*args):\n",
    "    html_str=''\n",
    "    for df in args:\n",
    "        if type(df) == np.ndarray:\n",
    "            df = pd.DataFrame(df)\n",
    "        html_str+=df.to_html()\n",
    "    html_str = html_str.replace('table','table style=\"display:inline\"')\n",
    "    # print(html_str)\n",
    "    display_html(html_str,raw=True)\n",
    "\n",
    "CSS = \"\"\"\n",
    ".output {\n",
    "    flex-direction: row;\n",
    "}\n",
    "\"\"\"\n",
    "\n",
    "def display_graphs_side_by_side(*args):\n",
    "    html_str='<table><tr>'\n",
    "    for g in args:\n",
    "        html_str += '<td>'\n",
    "        html_str += g._repr_svg_()\n",
    "        html_str += '</td>'\n",
    "    html_str += '</tr></table>'\n",
    "    display_html(html_str,raw=True)\n",
    "    \n",
    "\n",
    "display(HTML(\"<style>.container { width:70% !important; }</style>\"))"
   ]
  },
  {
   "cell_type": "code",
   "execution_count": 5,
   "metadata": {},
   "outputs": [
    {
     "name": "stdout",
     "output_type": "stream",
     "text": [
      "The rpy2.ipython extension is already loaded. To reload it, use:\n",
      "  %reload_ext rpy2.ipython\n"
     ]
    }
   ],
   "source": [
    "%load_ext rpy2.ipython"
   ]
  },
  {
   "cell_type": "code",
   "execution_count": 6,
   "metadata": {},
   "outputs": [],
   "source": [
    "%load_ext autoreload\n",
    "%autoreload 1\n",
    "%aimport pybnl.bn"
   ]
  },
  {
   "cell_type": "code",
   "execution_count": 7,
   "metadata": {},
   "outputs": [],
   "source": [
    "import locale\n",
    "locale.setlocale(locale.LC_ALL, 'C')\n",
    "\n",
    "import rpy2, rpy2.rinterface, rpy2.robjects, rpy2.robjects.packages, rpy2.robjects.lib, rpy2.robjects.lib.grid, \\\n",
    "    rpy2.robjects.lib.ggplot2, rpy2.robjects.pandas2ri, rpy2.interactive.process_revents, \\\n",
    "    rpy2.interactive, rpy2.robjects.lib.grdevices\n",
    "# rpy2.interactive.process_revents.start()\n",
    "rpy2.robjects.pandas2ri.activate()"
   ]
  },
  {
   "cell_type": "code",
   "execution_count": 9,
   "metadata": {},
   "outputs": [
    {
     "name": "stdout",
     "output_type": "stream",
     "text": [
      "[1]        4        4 20180620\n",
      "\n"
     ]
    }
   ],
   "source": [
    "rpackageversionfn = rpy2.robjects.r('packageVersion')\n",
    "print(rpackageversionfn(\"bnlearn\")[0])"
   ]
  },
  {
   "cell_type": "markdown",
   "metadata": {},
   "source": [
    "# learning.test\n",
    "\n",
    "Before we look at the `marks` data-set let's look first at a test network provided in the `bnlearn` package:\n",
    "[networks](http://www.bnlearn.com/documentation/networks/)\n",
    "<img src='http://www.bnlearn.com/documentation/networks/learning.test.png' width=400>"
   ]
  },
  {
   "cell_type": "code",
   "execution_count": 10,
   "metadata": {},
   "outputs": [],
   "source": [
    "%%R -o rdf_lt\n",
    "data(learning.test)\n",
    "rdf_lt = learning.test"
   ]
  },
  {
   "cell_type": "markdown",
   "metadata": {},
   "source": [
    "## Converting the R data.frame into a python pd.DataFrame and converting to CategoricalDtype"
   ]
  },
  {
   "cell_type": "markdown",
   "metadata": {},
   "source": [
    "After loading the data-set we need to convert it so that all variables are of type `CategoricalDtype`: see the pandas documentation about [Categorical Data](https://pandas.pydata.org/pandas-docs/stable/categorical.html) for more details."
   ]
  },
  {
   "cell_type": "code",
   "execution_count": 11,
   "metadata": {},
   "outputs": [
    {
     "name": "stdout",
     "output_type": "stream",
     "text": [
      "<class 'pandas.core.frame.DataFrame'>\n",
      "Index: 5000 entries, 1 to 5000\n",
      "Data columns (total 6 columns):\n",
      "A    5000 non-null category\n",
      "B    5000 non-null category\n",
      "C    5000 non-null category\n",
      "D    5000 non-null category\n",
      "E    5000 non-null category\n",
      "F    5000 non-null category\n",
      "dtypes: category(6)\n",
      "memory usage: 69.0+ KB\n"
     ]
    }
   ],
   "source": [
    "#df_lt = rpy2.robjects.pandas2ri.ri2py(rdf_lt)\n",
    "df_lt = rdf_lt\n",
    "\n",
    "ct1 = pd.api.types.CategoricalDtype(['a', 'b', 'c'], ordered=True)\n",
    "ct2 = pd.api.types.CategoricalDtype(['a', 'b'], ordered=True)\n",
    "\n",
    "for c in 'ABCDE':\n",
    "    df_lt[c] = df_lt[c].astype(ct1)\n",
    "df_lt['F'] = df_lt['F'].astype(ct2)\n",
    "\n",
    "df_lt.info()"
   ]
  },
  {
   "cell_type": "markdown",
   "metadata": {},
   "source": [
    "## ConstraintBasedNetFromDataDiscreteBayesNetwork"
   ]
  },
  {
   "cell_type": "code",
   "execution_count": 12,
   "metadata": {},
   "outputs": [
    {
     "data": {
      "image/svg+xml": [
       "<?xml version=\"1.0\" encoding=\"UTF-8\" standalone=\"no\"?>\n",
       "<!DOCTYPE svg PUBLIC \"-//W3C//DTD SVG 1.1//EN\"\n",
       " \"http://www.w3.org/Graphics/SVG/1.1/DTD/svg11.dtd\">\n",
       "<!-- Generated by graphviz version 2.36.0 (20140111.2315)\n",
       " -->\n",
       "<!-- Title: %3 Pages: 1 -->\n",
       "<svg width=\"264pt\" height=\"153pt\"\n",
       " viewBox=\"0.00 0.00 264.00 153.00\" xmlns=\"http://www.w3.org/2000/svg\" xmlns:xlink=\"http://www.w3.org/1999/xlink\">\n",
       "<g id=\"graph0\" class=\"graph\" transform=\"scale(1 1) rotate(0) translate(4 149)\">\n",
       "<title>%3</title>\n",
       "<polygon fill=\"white\" stroke=\"none\" points=\"-4,4 -4,-149 260,-149 260,4 -4,4\"/>\n",
       "<!-- A -->\n",
       "<g id=\"node1\" class=\"node\"><title>A</title>\n",
       "<ellipse fill=\"none\" stroke=\"black\" cx=\"132.881\" cy=\"-18.0519\" rx=\"27\" ry=\"18\"/>\n",
       "<text text-anchor=\"middle\" x=\"132.881\" y=\"-14.3519\" font-family=\"Times,serif\" font-size=\"14.00\">A</text>\n",
       "</g>\n",
       "<!-- D -->\n",
       "<g id=\"node4\" class=\"node\"><title>D</title>\n",
       "<ellipse fill=\"none\" stroke=\"black\" cx=\"90.9628\" cy=\"-71.343\" rx=\"27\" ry=\"18\"/>\n",
       "<text text-anchor=\"middle\" x=\"90.9628\" y=\"-67.643\" font-family=\"Times,serif\" font-size=\"14.00\">D</text>\n",
       "</g>\n",
       "<!-- A&#45;&gt;D -->\n",
       "<g id=\"edge2\" class=\"edge\"><title>A&#45;&gt;D</title>\n",
       "<path fill=\"none\" stroke=\"black\" d=\"M120.304,-34.041C116.988,-38.2566 113.337,-42.8982 109.77,-47.433\"/>\n",
       "<polygon fill=\"black\" stroke=\"black\" points=\"106.962,-45.3415 103.531,-55.3652 112.464,-49.6693 106.962,-45.3415\"/>\n",
       "</g>\n",
       "<!-- B -->\n",
       "<g id=\"node2\" class=\"node\"><title>B</title>\n",
       "<ellipse fill=\"none\" stroke=\"black\" cx=\"196.153\" cy=\"-18.7198\" rx=\"27\" ry=\"18\"/>\n",
       "<text text-anchor=\"middle\" x=\"196.153\" y=\"-15.0198\" font-family=\"Times,serif\" font-size=\"14.00\">B</text>\n",
       "</g>\n",
       "<!-- B&#45;&gt;A -->\n",
       "<g id=\"edge5\" class=\"edge\"><title>B&#45;&gt;A</title>\n",
       "<path fill=\"none\" stroke=\"black\" d=\"M168.953,-18.4327C166.005,-18.4016 163.005,-18.3699 160.058,-18.3388\"/>\n",
       "</g>\n",
       "<!-- E -->\n",
       "<g id=\"node5\" class=\"node\"><title>E</title>\n",
       "<ellipse fill=\"none\" stroke=\"black\" cx=\"228.959\" cy=\"-71.2925\" rx=\"27\" ry=\"18\"/>\n",
       "<text text-anchor=\"middle\" x=\"228.959\" y=\"-67.5925\" font-family=\"Times,serif\" font-size=\"14.00\">E</text>\n",
       "</g>\n",
       "<!-- B&#45;&gt;E -->\n",
       "<g id=\"edge4\" class=\"edge\"><title>B&#45;&gt;E</title>\n",
       "<path fill=\"none\" stroke=\"black\" d=\"M206.533,-35.3541C208.627,-38.7102 210.873,-42.31 213.106,-45.888\"/>\n",
       "<polygon fill=\"black\" stroke=\"black\" points=\"210.27,-47.955 218.534,-54.5859 216.209,-44.2492 210.27,-47.955\"/>\n",
       "</g>\n",
       "<!-- C -->\n",
       "<g id=\"node3\" class=\"node\"><title>C</title>\n",
       "<ellipse fill=\"none\" stroke=\"black\" cx=\"26.9557\" cy=\"-48.0945\" rx=\"27\" ry=\"18\"/>\n",
       "<text text-anchor=\"middle\" x=\"26.9557\" y=\"-44.3945\" font-family=\"Times,serif\" font-size=\"14.00\">C</text>\n",
       "</g>\n",
       "<!-- C&#45;&gt;D -->\n",
       "<g id=\"edge1\" class=\"edge\"><title>C&#45;&gt;D</title>\n",
       "<path fill=\"none\" stroke=\"black\" d=\"M50.7896,-56.7514C52.9266,-57.5276 55.1157,-58.3227 57.3152,-59.1216\"/>\n",
       "<polygon fill=\"black\" stroke=\"black\" points=\"56.3014,-62.4771 66.8955,-62.6014 58.6912,-55.8976 56.3014,-62.4771\"/>\n",
       "</g>\n",
       "<!-- F -->\n",
       "<g id=\"node6\" class=\"node\"><title>F</title>\n",
       "<ellipse fill=\"none\" stroke=\"black\" cx=\"187.159\" cy=\"-126.515\" rx=\"27\" ry=\"18\"/>\n",
       "<text text-anchor=\"middle\" x=\"187.159\" y=\"-122.815\" font-family=\"Times,serif\" font-size=\"14.00\">F</text>\n",
       "</g>\n",
       "<!-- F&#45;&gt;E -->\n",
       "<g id=\"edge3\" class=\"edge\"><title>F&#45;&gt;E</title>\n",
       "<path fill=\"none\" stroke=\"black\" d=\"M199.474,-110.245C202.93,-105.679 206.765,-100.613 210.495,-95.6857\"/>\n",
       "<polygon fill=\"black\" stroke=\"black\" points=\"213.342,-97.7226 216.587,-87.6368 207.761,-93.4978 213.342,-97.7226\"/>\n",
       "</g>\n",
       "</g>\n",
       "</svg>\n"
      ],
      "text/plain": [
       "<graphviz.dot.Digraph at 0x7ff76c9816a0>"
      ]
     },
     "execution_count": 12,
     "metadata": {},
     "output_type": "execute_result"
    }
   ],
   "source": [
    "cbnet = pybnl.bn.ConstraintBasedNetFromDataDiscreteBayesNetwork(df_lt)\n",
    "cbnet.fit()\n",
    "#display_side_by_side(cbnet.structure().dot(),cbnet.structure().cpdag().dot())\n",
    "cbnet.structure().cpdag().dot()"
   ]
  },
  {
   "cell_type": "markdown",
   "metadata": {},
   "source": [
    "## ScoreBasedNetFromDataDiscreteBayesNetwork"
   ]
  },
  {
   "cell_type": "code",
   "execution_count": 13,
   "metadata": {},
   "outputs": [
    {
     "data": {
      "image/svg+xml": [
       "<?xml version=\"1.0\" encoding=\"UTF-8\" standalone=\"no\"?>\n",
       "<!DOCTYPE svg PUBLIC \"-//W3C//DTD SVG 1.1//EN\"\n",
       " \"http://www.w3.org/Graphics/SVG/1.1/DTD/svg11.dtd\">\n",
       "<!-- Generated by graphviz version 2.36.0 (20140111.2315)\n",
       " -->\n",
       "<!-- Title: %3 Pages: 1 -->\n",
       "<svg width=\"264pt\" height=\"153pt\"\n",
       " viewBox=\"0.00 0.00 264.00 153.00\" xmlns=\"http://www.w3.org/2000/svg\" xmlns:xlink=\"http://www.w3.org/1999/xlink\">\n",
       "<g id=\"graph0\" class=\"graph\" transform=\"scale(1 1) rotate(0) translate(4 149)\">\n",
       "<title>%3</title>\n",
       "<polygon fill=\"white\" stroke=\"none\" points=\"-4,4 -4,-149 260,-149 260,4 -4,4\"/>\n",
       "<!-- A -->\n",
       "<g id=\"node1\" class=\"node\"><title>A</title>\n",
       "<ellipse fill=\"none\" stroke=\"black\" cx=\"132.881\" cy=\"-18.0519\" rx=\"27\" ry=\"18\"/>\n",
       "<text text-anchor=\"middle\" x=\"132.881\" y=\"-14.3519\" font-family=\"Times,serif\" font-size=\"14.00\">A</text>\n",
       "</g>\n",
       "<!-- D -->\n",
       "<g id=\"node4\" class=\"node\"><title>D</title>\n",
       "<ellipse fill=\"none\" stroke=\"black\" cx=\"90.9628\" cy=\"-71.343\" rx=\"27\" ry=\"18\"/>\n",
       "<text text-anchor=\"middle\" x=\"90.9628\" y=\"-67.643\" font-family=\"Times,serif\" font-size=\"14.00\">D</text>\n",
       "</g>\n",
       "<!-- A&#45;&gt;D -->\n",
       "<g id=\"edge2\" class=\"edge\"><title>A&#45;&gt;D</title>\n",
       "<path fill=\"none\" stroke=\"black\" d=\"M120.304,-34.041C116.988,-38.2566 113.337,-42.8982 109.77,-47.433\"/>\n",
       "<polygon fill=\"black\" stroke=\"black\" points=\"106.962,-45.3415 103.531,-55.3652 112.464,-49.6693 106.962,-45.3415\"/>\n",
       "</g>\n",
       "<!-- B -->\n",
       "<g id=\"node2\" class=\"node\"><title>B</title>\n",
       "<ellipse fill=\"none\" stroke=\"black\" cx=\"196.153\" cy=\"-18.7198\" rx=\"27\" ry=\"18\"/>\n",
       "<text text-anchor=\"middle\" x=\"196.153\" y=\"-15.0198\" font-family=\"Times,serif\" font-size=\"14.00\">B</text>\n",
       "</g>\n",
       "<!-- B&#45;&gt;A -->\n",
       "<g id=\"edge5\" class=\"edge\"><title>B&#45;&gt;A</title>\n",
       "<path fill=\"none\" stroke=\"black\" d=\"M168.953,-18.4327C166.005,-18.4016 163.005,-18.3699 160.058,-18.3388\"/>\n",
       "</g>\n",
       "<!-- E -->\n",
       "<g id=\"node5\" class=\"node\"><title>E</title>\n",
       "<ellipse fill=\"none\" stroke=\"black\" cx=\"228.959\" cy=\"-71.2925\" rx=\"27\" ry=\"18\"/>\n",
       "<text text-anchor=\"middle\" x=\"228.959\" y=\"-67.5925\" font-family=\"Times,serif\" font-size=\"14.00\">E</text>\n",
       "</g>\n",
       "<!-- B&#45;&gt;E -->\n",
       "<g id=\"edge4\" class=\"edge\"><title>B&#45;&gt;E</title>\n",
       "<path fill=\"none\" stroke=\"black\" d=\"M206.533,-35.3541C208.627,-38.7102 210.873,-42.31 213.106,-45.888\"/>\n",
       "<polygon fill=\"black\" stroke=\"black\" points=\"210.27,-47.955 218.534,-54.5859 216.209,-44.2492 210.27,-47.955\"/>\n",
       "</g>\n",
       "<!-- C -->\n",
       "<g id=\"node3\" class=\"node\"><title>C</title>\n",
       "<ellipse fill=\"none\" stroke=\"black\" cx=\"26.9557\" cy=\"-48.0945\" rx=\"27\" ry=\"18\"/>\n",
       "<text text-anchor=\"middle\" x=\"26.9557\" y=\"-44.3945\" font-family=\"Times,serif\" font-size=\"14.00\">C</text>\n",
       "</g>\n",
       "<!-- C&#45;&gt;D -->\n",
       "<g id=\"edge1\" class=\"edge\"><title>C&#45;&gt;D</title>\n",
       "<path fill=\"none\" stroke=\"black\" d=\"M50.7896,-56.7514C52.9266,-57.5276 55.1157,-58.3227 57.3152,-59.1216\"/>\n",
       "<polygon fill=\"black\" stroke=\"black\" points=\"56.3014,-62.4771 66.8955,-62.6014 58.6912,-55.8976 56.3014,-62.4771\"/>\n",
       "</g>\n",
       "<!-- F -->\n",
       "<g id=\"node6\" class=\"node\"><title>F</title>\n",
       "<ellipse fill=\"none\" stroke=\"black\" cx=\"187.159\" cy=\"-126.515\" rx=\"27\" ry=\"18\"/>\n",
       "<text text-anchor=\"middle\" x=\"187.159\" y=\"-122.815\" font-family=\"Times,serif\" font-size=\"14.00\">F</text>\n",
       "</g>\n",
       "<!-- F&#45;&gt;E -->\n",
       "<g id=\"edge3\" class=\"edge\"><title>F&#45;&gt;E</title>\n",
       "<path fill=\"none\" stroke=\"black\" d=\"M199.474,-110.245C202.93,-105.679 206.765,-100.613 210.495,-95.6857\"/>\n",
       "<polygon fill=\"black\" stroke=\"black\" points=\"213.342,-97.7226 216.587,-87.6368 207.761,-93.4978 213.342,-97.7226\"/>\n",
       "</g>\n",
       "</g>\n",
       "</svg>\n"
      ],
      "text/plain": [
       "<graphviz.dot.Digraph at 0x7ff76c97de48>"
      ]
     },
     "execution_count": 13,
     "metadata": {},
     "output_type": "execute_result"
    }
   ],
   "source": [
    "sbnet = pybnl.bn.ScoreBasedNetFromDataDiscreteBayesNetwork(df_lt)\n",
    "sbnet.fit()\n",
    "sbnet.structure().cpdag().dot()"
   ]
  },
  {
   "cell_type": "markdown",
   "metadata": {},
   "source": [
    "## HybridScoreAndConstainedBasedNetFromDataDiscreteBayesNetwork"
   ]
  },
  {
   "cell_type": "code",
   "execution_count": 14,
   "metadata": {},
   "outputs": [
    {
     "data": {
      "image/svg+xml": [
       "<?xml version=\"1.0\" encoding=\"UTF-8\" standalone=\"no\"?>\n",
       "<!DOCTYPE svg PUBLIC \"-//W3C//DTD SVG 1.1//EN\"\n",
       " \"http://www.w3.org/Graphics/SVG/1.1/DTD/svg11.dtd\">\n",
       "<!-- Generated by graphviz version 2.36.0 (20140111.2315)\n",
       " -->\n",
       "<!-- Title: %3 Pages: 1 -->\n",
       "<svg width=\"247pt\" height=\"122pt\"\n",
       " viewBox=\"0.00 0.00 247.00 122.00\" xmlns=\"http://www.w3.org/2000/svg\" xmlns:xlink=\"http://www.w3.org/1999/xlink\">\n",
       "<g id=\"graph0\" class=\"graph\" transform=\"scale(1 1) rotate(0) translate(4 118)\">\n",
       "<title>%3</title>\n",
       "<polygon fill=\"white\" stroke=\"none\" points=\"-4,4 -4,-118 243,-118 243,4 -4,4\"/>\n",
       "<!-- A -->\n",
       "<g id=\"node1\" class=\"node\"><title>A</title>\n",
       "<ellipse fill=\"none\" stroke=\"black\" cx=\"128.962\" cy=\"-79.6214\" rx=\"27\" ry=\"18\"/>\n",
       "<text text-anchor=\"middle\" x=\"128.962\" y=\"-75.9214\" font-family=\"Times,serif\" font-size=\"14.00\">A</text>\n",
       "</g>\n",
       "<!-- D -->\n",
       "<g id=\"node4\" class=\"node\"><title>D</title>\n",
       "<ellipse fill=\"none\" stroke=\"black\" cx=\"58.2714\" cy=\"-80.7325\" rx=\"27\" ry=\"18\"/>\n",
       "<text text-anchor=\"middle\" x=\"58.2714\" y=\"-77.0325\" font-family=\"Times,serif\" font-size=\"14.00\">D</text>\n",
       "</g>\n",
       "<!-- A&#45;&gt;D -->\n",
       "<g id=\"edge2\" class=\"edge\"><title>A&#45;&gt;D</title>\n",
       "<path fill=\"none\" stroke=\"black\" d=\"M101.833,-80.0478C99.8474,-80.079 97.8251,-80.1108 95.7931,-80.1427\"/>\n",
       "<polygon fill=\"black\" stroke=\"black\" points=\"95.6217,-76.6449 85.678,-80.3017 95.7318,-83.644 95.6217,-76.6449\"/>\n",
       "</g>\n",
       "<!-- B -->\n",
       "<g id=\"node2\" class=\"node\"><title>B</title>\n",
       "<ellipse fill=\"none\" stroke=\"black\" cx=\"141.024\" cy=\"-18.465\" rx=\"27\" ry=\"18\"/>\n",
       "<text text-anchor=\"middle\" x=\"141.024\" y=\"-14.765\" font-family=\"Times,serif\" font-size=\"14.00\">B</text>\n",
       "</g>\n",
       "<!-- B&#45;&gt;A -->\n",
       "<g id=\"edge4\" class=\"edge\"><title>B&#45;&gt;A</title>\n",
       "<path fill=\"none\" stroke=\"black\" d=\"M137.47,-36.4832C135.913,-44.3755 134.09,-53.619 132.532,-61.5207\"/>\n",
       "</g>\n",
       "<!-- E -->\n",
       "<g id=\"node5\" class=\"node\"><title>E</title>\n",
       "<ellipse fill=\"none\" stroke=\"black\" cx=\"211.715\" cy=\"-31.0083\" rx=\"27\" ry=\"18\"/>\n",
       "<text text-anchor=\"middle\" x=\"211.715\" y=\"-27.3083\" font-family=\"Times,serif\" font-size=\"14.00\">E</text>\n",
       "</g>\n",
       "<!-- B&#45;&gt;E -->\n",
       "<g id=\"edge3\" class=\"edge\"><title>B&#45;&gt;E</title>\n",
       "<path fill=\"none\" stroke=\"black\" d=\"M167.347,-23.1357C173.313,-24.1944 179.648,-25.3183 185.605,-26.3755\"/>\n",
       "</g>\n",
       "<!-- C -->\n",
       "<g id=\"node3\" class=\"node\"><title>C</title>\n",
       "<ellipse fill=\"none\" stroke=\"black\" cx=\"27.4451\" cy=\"-28.9482\" rx=\"27\" ry=\"18\"/>\n",
       "<text text-anchor=\"middle\" x=\"27.4451\" y=\"-25.2482\" font-family=\"Times,serif\" font-size=\"14.00\">C</text>\n",
       "</g>\n",
       "<!-- C&#45;&gt;D -->\n",
       "<g id=\"edge1\" class=\"edge\"><title>C&#45;&gt;D</title>\n",
       "<path fill=\"none\" stroke=\"black\" d=\"M37.5388,-45.9043C39.3133,-48.8854 41.1951,-52.0465 43.0727,-55.2006\"/>\n",
       "<polygon fill=\"black\" stroke=\"black\" points=\"40.1377,-57.1127 48.2603,-63.9152 46.1526,-53.5321 40.1377,-57.1127\"/>\n",
       "</g>\n",
       "<!-- F -->\n",
       "<g id=\"node6\" class=\"node\"><title>F</title>\n",
       "<ellipse fill=\"none\" stroke=\"black\" cx=\"209.238\" cy=\"-95.6409\" rx=\"27\" ry=\"18\"/>\n",
       "<text text-anchor=\"middle\" x=\"209.238\" y=\"-91.9409\" font-family=\"Times,serif\" font-size=\"14.00\">F</text>\n",
       "</g>\n",
       "</g>\n",
       "</svg>\n"
      ],
      "text/plain": [
       "<graphviz.dot.Digraph at 0x7ff76e653a58>"
      ]
     },
     "execution_count": 14,
     "metadata": {},
     "output_type": "execute_result"
    }
   ],
   "source": [
    "hnet1 = pybnl.bn.HybridScoreAndConstainedBasedNetFromDataDiscreteBayesNetwork(df_lt)\n",
    "hnet1.fit()\n",
    "hnet1.structure().cpdag().dot()"
   ]
  },
  {
   "cell_type": "code",
   "execution_count": 15,
   "metadata": {},
   "outputs": [
    {
     "data": {
      "image/svg+xml": [
       "<?xml version=\"1.0\" encoding=\"UTF-8\" standalone=\"no\"?>\n",
       "<!DOCTYPE svg PUBLIC \"-//W3C//DTD SVG 1.1//EN\"\n",
       " \"http://www.w3.org/Graphics/SVG/1.1/DTD/svg11.dtd\">\n",
       "<!-- Generated by graphviz version 2.36.0 (20140111.2315)\n",
       " -->\n",
       "<!-- Title: %3 Pages: 1 -->\n",
       "<svg width=\"264pt\" height=\"153pt\"\n",
       " viewBox=\"0.00 0.00 264.00 153.00\" xmlns=\"http://www.w3.org/2000/svg\" xmlns:xlink=\"http://www.w3.org/1999/xlink\">\n",
       "<g id=\"graph0\" class=\"graph\" transform=\"scale(1 1) rotate(0) translate(4 149)\">\n",
       "<title>%3</title>\n",
       "<polygon fill=\"white\" stroke=\"none\" points=\"-4,4 -4,-149 260,-149 260,4 -4,4\"/>\n",
       "<!-- A -->\n",
       "<g id=\"node1\" class=\"node\"><title>A</title>\n",
       "<ellipse fill=\"none\" stroke=\"black\" cx=\"132.881\" cy=\"-18.0519\" rx=\"27\" ry=\"18\"/>\n",
       "<text text-anchor=\"middle\" x=\"132.881\" y=\"-14.3519\" font-family=\"Times,serif\" font-size=\"14.00\">A</text>\n",
       "</g>\n",
       "<!-- D -->\n",
       "<g id=\"node4\" class=\"node\"><title>D</title>\n",
       "<ellipse fill=\"none\" stroke=\"black\" cx=\"90.9628\" cy=\"-71.343\" rx=\"27\" ry=\"18\"/>\n",
       "<text text-anchor=\"middle\" x=\"90.9628\" y=\"-67.643\" font-family=\"Times,serif\" font-size=\"14.00\">D</text>\n",
       "</g>\n",
       "<!-- A&#45;&gt;D -->\n",
       "<g id=\"edge2\" class=\"edge\"><title>A&#45;&gt;D</title>\n",
       "<path fill=\"none\" stroke=\"black\" d=\"M120.304,-34.041C116.988,-38.2566 113.337,-42.8982 109.77,-47.433\"/>\n",
       "<polygon fill=\"black\" stroke=\"black\" points=\"106.962,-45.3415 103.531,-55.3652 112.464,-49.6693 106.962,-45.3415\"/>\n",
       "</g>\n",
       "<!-- B -->\n",
       "<g id=\"node2\" class=\"node\"><title>B</title>\n",
       "<ellipse fill=\"none\" stroke=\"black\" cx=\"196.153\" cy=\"-18.7198\" rx=\"27\" ry=\"18\"/>\n",
       "<text text-anchor=\"middle\" x=\"196.153\" y=\"-15.0198\" font-family=\"Times,serif\" font-size=\"14.00\">B</text>\n",
       "</g>\n",
       "<!-- B&#45;&gt;A -->\n",
       "<g id=\"edge5\" class=\"edge\"><title>B&#45;&gt;A</title>\n",
       "<path fill=\"none\" stroke=\"black\" d=\"M168.953,-18.4327C166.005,-18.4016 163.005,-18.3699 160.058,-18.3388\"/>\n",
       "</g>\n",
       "<!-- E -->\n",
       "<g id=\"node5\" class=\"node\"><title>E</title>\n",
       "<ellipse fill=\"none\" stroke=\"black\" cx=\"228.959\" cy=\"-71.2925\" rx=\"27\" ry=\"18\"/>\n",
       "<text text-anchor=\"middle\" x=\"228.959\" y=\"-67.5925\" font-family=\"Times,serif\" font-size=\"14.00\">E</text>\n",
       "</g>\n",
       "<!-- B&#45;&gt;E -->\n",
       "<g id=\"edge4\" class=\"edge\"><title>B&#45;&gt;E</title>\n",
       "<path fill=\"none\" stroke=\"black\" d=\"M206.533,-35.3541C208.627,-38.7102 210.873,-42.31 213.106,-45.888\"/>\n",
       "<polygon fill=\"black\" stroke=\"black\" points=\"210.27,-47.955 218.534,-54.5859 216.209,-44.2492 210.27,-47.955\"/>\n",
       "</g>\n",
       "<!-- C -->\n",
       "<g id=\"node3\" class=\"node\"><title>C</title>\n",
       "<ellipse fill=\"none\" stroke=\"black\" cx=\"26.9557\" cy=\"-48.0945\" rx=\"27\" ry=\"18\"/>\n",
       "<text text-anchor=\"middle\" x=\"26.9557\" y=\"-44.3945\" font-family=\"Times,serif\" font-size=\"14.00\">C</text>\n",
       "</g>\n",
       "<!-- C&#45;&gt;D -->\n",
       "<g id=\"edge1\" class=\"edge\"><title>C&#45;&gt;D</title>\n",
       "<path fill=\"none\" stroke=\"black\" d=\"M50.7896,-56.7514C52.9266,-57.5276 55.1157,-58.3227 57.3152,-59.1216\"/>\n",
       "<polygon fill=\"black\" stroke=\"black\" points=\"56.3014,-62.4771 66.8955,-62.6014 58.6912,-55.8976 56.3014,-62.4771\"/>\n",
       "</g>\n",
       "<!-- F -->\n",
       "<g id=\"node6\" class=\"node\"><title>F</title>\n",
       "<ellipse fill=\"none\" stroke=\"black\" cx=\"187.159\" cy=\"-126.515\" rx=\"27\" ry=\"18\"/>\n",
       "<text text-anchor=\"middle\" x=\"187.159\" y=\"-122.815\" font-family=\"Times,serif\" font-size=\"14.00\">F</text>\n",
       "</g>\n",
       "<!-- F&#45;&gt;E -->\n",
       "<g id=\"edge3\" class=\"edge\"><title>F&#45;&gt;E</title>\n",
       "<path fill=\"none\" stroke=\"black\" d=\"M199.474,-110.245C202.93,-105.679 206.765,-100.613 210.495,-95.6857\"/>\n",
       "<polygon fill=\"black\" stroke=\"black\" points=\"213.342,-97.7226 216.587,-87.6368 207.761,-93.4978 213.342,-97.7226\"/>\n",
       "</g>\n",
       "</g>\n",
       "</svg>\n"
      ],
      "text/plain": [
       "<graphviz.dot.Digraph at 0x7ff76e6ae278>"
      ]
     },
     "execution_count": 15,
     "metadata": {},
     "output_type": "execute_result"
    }
   ],
   "source": [
    "hnet2 = pybnl.bn.HybridScoreAndConstainedBasedNetFromDataDiscreteBayesNetwork(df_lt, algorithm='rxmax2_sihitonpc_tabu')\n",
    "hnet2.fit()\n",
    "hnet2.structure().cpdag().dot()"
   ]
  },
  {
   "cell_type": "code",
   "execution_count": 16,
   "metadata": {
    "scrolled": true
   },
   "outputs": [
    {
     "data": {
      "text/html": [
       "<div>\n",
       "<style scoped>\n",
       "    .dataframe tbody tr th:only-of-type {\n",
       "        vertical-align: middle;\n",
       "    }\n",
       "\n",
       "    .dataframe tbody tr th {\n",
       "        vertical-align: top;\n",
       "    }\n",
       "\n",
       "    .dataframe thead th {\n",
       "        text-align: right;\n",
       "    }\n",
       "</style>\n",
       "<table border=\"1\" class=\"dataframe\">\n",
       "  <thead>\n",
       "    <tr style=\"text-align: right;\">\n",
       "      <th></th>\n",
       "      <th>X</th>\n",
       "      <th>Z</th>\n",
       "      <th>Y</th>\n",
       "    </tr>\n",
       "  </thead>\n",
       "  <tbody>\n",
       "    <tr>\n",
       "      <th>0</th>\n",
       "      <td>A</td>\n",
       "      <td>D</td>\n",
       "      <td>C</td>\n",
       "    </tr>\n",
       "    <tr>\n",
       "      <th>1</th>\n",
       "      <td>B</td>\n",
       "      <td>E</td>\n",
       "      <td>F</td>\n",
       "    </tr>\n",
       "  </tbody>\n",
       "</table>\n",
       "</div>"
      ],
      "text/plain": [
       "   X  Z  Y\n",
       "0  A  D  C\n",
       "1  B  E  F"
      ]
     },
     "execution_count": 16,
     "metadata": {},
     "output_type": "execute_result"
    }
   ],
   "source": [
    "hnet2.structure().cpdag().vstructs()"
   ]
  },
  {
   "cell_type": "markdown",
   "metadata": {},
   "source": [
    "# marks"
   ]
  },
  {
   "cell_type": "markdown",
   "metadata": {},
   "source": [
    "Let's take the detour of loading the `R` data set, writing it to CSV and then loading the CSV via pandas from python. Like that we're sure we have a typical starting position in a `python` data workflow."
   ]
  },
  {
   "cell_type": "code",
   "execution_count": 17,
   "metadata": {},
   "outputs": [],
   "source": [
    "%%R -o marks\n",
    "library(bnlearn)\n",
    "data(marks)\n",
    "write.csv(marks, file = \"marks.csv\")"
   ]
  },
  {
   "cell_type": "code",
   "execution_count": 18,
   "metadata": {},
   "outputs": [
    {
     "data": {
      "text/html": [
       "<div>\n",
       "<style scoped>\n",
       "    .dataframe tbody tr th:only-of-type {\n",
       "        vertical-align: middle;\n",
       "    }\n",
       "\n",
       "    .dataframe tbody tr th {\n",
       "        vertical-align: top;\n",
       "    }\n",
       "\n",
       "    .dataframe thead th {\n",
       "        text-align: right;\n",
       "    }\n",
       "</style>\n",
       "<table border=\"1\" class=\"dataframe\">\n",
       "  <thead>\n",
       "    <tr style=\"text-align: right;\">\n",
       "      <th></th>\n",
       "      <th>MECH</th>\n",
       "      <th>VECT</th>\n",
       "      <th>ALG</th>\n",
       "      <th>ANL</th>\n",
       "      <th>STAT</th>\n",
       "    </tr>\n",
       "  </thead>\n",
       "  <tbody>\n",
       "    <tr>\n",
       "      <th>1</th>\n",
       "      <td>77.0</td>\n",
       "      <td>82.0</td>\n",
       "      <td>67.0</td>\n",
       "      <td>67.0</td>\n",
       "      <td>81.0</td>\n",
       "    </tr>\n",
       "    <tr>\n",
       "      <th>2</th>\n",
       "      <td>63.0</td>\n",
       "      <td>78.0</td>\n",
       "      <td>80.0</td>\n",
       "      <td>70.0</td>\n",
       "      <td>81.0</td>\n",
       "    </tr>\n",
       "    <tr>\n",
       "      <th>3</th>\n",
       "      <td>75.0</td>\n",
       "      <td>73.0</td>\n",
       "      <td>71.0</td>\n",
       "      <td>66.0</td>\n",
       "      <td>81.0</td>\n",
       "    </tr>\n",
       "    <tr>\n",
       "      <th>4</th>\n",
       "      <td>55.0</td>\n",
       "      <td>72.0</td>\n",
       "      <td>63.0</td>\n",
       "      <td>70.0</td>\n",
       "      <td>68.0</td>\n",
       "    </tr>\n",
       "    <tr>\n",
       "      <th>5</th>\n",
       "      <td>63.0</td>\n",
       "      <td>63.0</td>\n",
       "      <td>65.0</td>\n",
       "      <td>70.0</td>\n",
       "      <td>63.0</td>\n",
       "    </tr>\n",
       "  </tbody>\n",
       "</table>\n",
       "</div>"
      ],
      "text/plain": [
       "   MECH  VECT   ALG   ANL  STAT\n",
       "1  77.0  82.0  67.0  67.0  81.0\n",
       "2  63.0  78.0  80.0  70.0  81.0\n",
       "3  75.0  73.0  71.0  66.0  81.0\n",
       "4  55.0  72.0  63.0  70.0  68.0\n",
       "5  63.0  63.0  65.0  70.0  63.0"
      ]
     },
     "execution_count": 18,
     "metadata": {},
     "output_type": "execute_result"
    }
   ],
   "source": [
    "pd_marks = pd.read_csv('marks.csv', index_col=0).astype(np.float64)\n",
    "pd_marks.head()"
   ]
  },
  {
   "cell_type": "code",
   "execution_count": 19,
   "metadata": {},
   "outputs": [],
   "source": [
    "hbt = pybnl.bn.HarteminkBinTransformer(3,ibreaks=18)\n",
    "dmarks = hbt.fit_transform(X=pd_marks)"
   ]
  },
  {
   "cell_type": "code",
   "execution_count": 20,
   "metadata": {},
   "outputs": [
    {
     "name": "stdout",
     "output_type": "stream",
     "text": [
      "<class 'pandas.core.frame.DataFrame'>\n",
      "RangeIndex: 88 entries, 0 to 87\n",
      "Data columns (total 5 columns):\n",
      "MECH    88 non-null category\n",
      "VECT    88 non-null category\n",
      "ALG     88 non-null category\n",
      "ANL     88 non-null category\n",
      "STAT    88 non-null category\n",
      "dtypes: category(5)\n",
      "memory usage: 1.0 KB\n"
     ]
    }
   ],
   "source": [
    "# dmarks = pybnl.bn.discretize(pd_marks)\n",
    "dmarks.info()"
   ]
  },
  {
   "cell_type": "code",
   "execution_count": 21,
   "metadata": {},
   "outputs": [
    {
     "data": {
      "text/plain": [
       "CategoricalDtype(categories=['(0,35.8]', '(35.8,49]', '(49,77]'], ordered=False)"
      ]
     },
     "execution_count": 21,
     "metadata": {},
     "output_type": "execute_result"
    }
   ],
   "source": [
    "dmarks['MECH'].dtype"
   ]
  },
  {
   "cell_type": "code",
   "execution_count": 22,
   "metadata": {},
   "outputs": [
    {
     "data": {
      "text/html": [
       "<div>\n",
       "<style scoped>\n",
       "    .dataframe tbody tr th:only-of-type {\n",
       "        vertical-align: middle;\n",
       "    }\n",
       "\n",
       "    .dataframe tbody tr th {\n",
       "        vertical-align: top;\n",
       "    }\n",
       "\n",
       "    .dataframe thead th {\n",
       "        text-align: right;\n",
       "    }\n",
       "</style>\n",
       "<table border=\"1\" class=\"dataframe\">\n",
       "  <thead>\n",
       "    <tr style=\"text-align: right;\">\n",
       "      <th></th>\n",
       "      <th>MECH</th>\n",
       "      <th>VECT</th>\n",
       "      <th>ALG</th>\n",
       "      <th>ANL</th>\n",
       "      <th>STAT</th>\n",
       "    </tr>\n",
       "  </thead>\n",
       "  <tbody>\n",
       "    <tr>\n",
       "      <th>0</th>\n",
       "      <td>(49,77]</td>\n",
       "      <td>(60.7,82]</td>\n",
       "      <td>(58.7,80]</td>\n",
       "      <td>(62.3,70]</td>\n",
       "      <td>(53.7,81]</td>\n",
       "    </tr>\n",
       "    <tr>\n",
       "      <th>1</th>\n",
       "      <td>(49,77]</td>\n",
       "      <td>(60.7,82]</td>\n",
       "      <td>(58.7,80]</td>\n",
       "      <td>(62.3,70]</td>\n",
       "      <td>(53.7,81]</td>\n",
       "    </tr>\n",
       "    <tr>\n",
       "      <th>2</th>\n",
       "      <td>(49,77]</td>\n",
       "      <td>(60.7,82]</td>\n",
       "      <td>(58.7,80]</td>\n",
       "      <td>(62.3,70]</td>\n",
       "      <td>(53.7,81]</td>\n",
       "    </tr>\n",
       "    <tr>\n",
       "      <th>3</th>\n",
       "      <td>(49,77]</td>\n",
       "      <td>(60.7,82]</td>\n",
       "      <td>(58.7,80]</td>\n",
       "      <td>(62.3,70]</td>\n",
       "      <td>(53.7,81]</td>\n",
       "    </tr>\n",
       "    <tr>\n",
       "      <th>4</th>\n",
       "      <td>(49,77]</td>\n",
       "      <td>(60.7,82]</td>\n",
       "      <td>(58.7,80]</td>\n",
       "      <td>(62.3,70]</td>\n",
       "      <td>(53.7,81]</td>\n",
       "    </tr>\n",
       "  </tbody>\n",
       "</table>\n",
       "</div>"
      ],
      "text/plain": [
       "      MECH       VECT        ALG        ANL       STAT\n",
       "0  (49,77]  (60.7,82]  (58.7,80]  (62.3,70]  (53.7,81]\n",
       "1  (49,77]  (60.7,82]  (58.7,80]  (62.3,70]  (53.7,81]\n",
       "2  (49,77]  (60.7,82]  (58.7,80]  (62.3,70]  (53.7,81]\n",
       "3  (49,77]  (60.7,82]  (58.7,80]  (62.3,70]  (53.7,81]\n",
       "4  (49,77]  (60.7,82]  (58.7,80]  (62.3,70]  (53.7,81]"
      ]
     },
     "execution_count": 22,
     "metadata": {},
     "output_type": "execute_result"
    }
   ],
   "source": [
    "dmarks.head()"
   ]
  },
  {
   "cell_type": "markdown",
   "metadata": {},
   "source": [
    "Let's also create immediately a marks data-frame that include one additional latent variable that we will need later:"
   ]
  },
  {
   "cell_type": "code",
   "execution_count": 23,
   "metadata": {},
   "outputs": [
    {
     "name": "stdout",
     "output_type": "stream",
     "text": [
      "['l000', 'l001', 'l002']\n"
     ]
    },
    {
     "data": {
      "text/html": [
       "<div>\n",
       "<style scoped>\n",
       "    .dataframe tbody tr th:only-of-type {\n",
       "        vertical-align: middle;\n",
       "    }\n",
       "\n",
       "    .dataframe tbody tr th {\n",
       "        vertical-align: top;\n",
       "    }\n",
       "\n",
       "    .dataframe thead th {\n",
       "        text-align: right;\n",
       "    }\n",
       "</style>\n",
       "<table border=\"1\" class=\"dataframe\">\n",
       "  <thead>\n",
       "    <tr style=\"text-align: right;\">\n",
       "      <th></th>\n",
       "      <th>MECH</th>\n",
       "      <th>VECT</th>\n",
       "      <th>ALG</th>\n",
       "      <th>ANL</th>\n",
       "      <th>STAT</th>\n",
       "      <th>LAT</th>\n",
       "    </tr>\n",
       "  </thead>\n",
       "  <tbody>\n",
       "    <tr>\n",
       "      <th>0</th>\n",
       "      <td>(49,77]</td>\n",
       "      <td>(60.7,82]</td>\n",
       "      <td>(58.7,80]</td>\n",
       "      <td>(62.3,70]</td>\n",
       "      <td>(53.7,81]</td>\n",
       "      <td>NaN</td>\n",
       "    </tr>\n",
       "    <tr>\n",
       "      <th>1</th>\n",
       "      <td>(49,77]</td>\n",
       "      <td>(60.7,82]</td>\n",
       "      <td>(58.7,80]</td>\n",
       "      <td>(62.3,70]</td>\n",
       "      <td>(53.7,81]</td>\n",
       "      <td>NaN</td>\n",
       "    </tr>\n",
       "    <tr>\n",
       "      <th>2</th>\n",
       "      <td>(49,77]</td>\n",
       "      <td>(60.7,82]</td>\n",
       "      <td>(58.7,80]</td>\n",
       "      <td>(62.3,70]</td>\n",
       "      <td>(53.7,81]</td>\n",
       "      <td>NaN</td>\n",
       "    </tr>\n",
       "    <tr>\n",
       "      <th>3</th>\n",
       "      <td>(49,77]</td>\n",
       "      <td>(60.7,82]</td>\n",
       "      <td>(58.7,80]</td>\n",
       "      <td>(62.3,70]</td>\n",
       "      <td>(53.7,81]</td>\n",
       "      <td>NaN</td>\n",
       "    </tr>\n",
       "    <tr>\n",
       "      <th>4</th>\n",
       "      <td>(49,77]</td>\n",
       "      <td>(60.7,82]</td>\n",
       "      <td>(58.7,80]</td>\n",
       "      <td>(62.3,70]</td>\n",
       "      <td>(53.7,81]</td>\n",
       "      <td>NaN</td>\n",
       "    </tr>\n",
       "  </tbody>\n",
       "</table>\n",
       "</div>"
      ],
      "text/plain": [
       "      MECH       VECT        ALG        ANL       STAT  LAT\n",
       "0  (49,77]  (60.7,82]  (58.7,80]  (62.3,70]  (53.7,81]  NaN\n",
       "1  (49,77]  (60.7,82]  (58.7,80]  (62.3,70]  (53.7,81]  NaN\n",
       "2  (49,77]  (60.7,82]  (58.7,80]  (62.3,70]  (53.7,81]  NaN\n",
       "3  (49,77]  (60.7,82]  (58.7,80]  (62.3,70]  (53.7,81]  NaN\n",
       "4  (49,77]  (60.7,82]  (58.7,80]  (62.3,70]  (53.7,81]  NaN"
      ]
     },
     "execution_count": 23,
     "metadata": {},
     "output_type": "execute_result"
    }
   ],
   "source": [
    "ldmarks = dmarks.copy()\n",
    "pybnl.bn.augment_df_with_latent_variable(ldmarks, 'LAT', 3)\n",
    "print(pybnl.bn.levels_of_latent_variable(ldmarks,'LAT'))\n",
    "ldmarks.head()"
   ]
  },
  {
   "cell_type": "markdown",
   "metadata": {},
   "source": [
    "## NetAndDataDiscreteBayesNetwork"
   ]
  },
  {
   "cell_type": "markdown",
   "metadata": {},
   "source": [
    "### Create network by hand"
   ]
  },
  {
   "cell_type": "code",
   "execution_count": 24,
   "metadata": {},
   "outputs": [],
   "source": [
    "dg = nx.DiGraph()\n",
    "# G.add_node(1)\n",
    "dg.add_nodes_from(list(marks.columns))\n",
    "dg.add_edges_from([\n",
    "    ['STAT', 'ANL'],\n",
    "    ['STAT', 'ALG'],\n",
    "    ['ANL', 'ALG'],\n",
    "    ['ALG', 'MECH'],\n",
    "    ['ALG', 'VECT'],\n",
    "    ['VECT', 'MECH'],\n",
    "])"
   ]
  },
  {
   "cell_type": "code",
   "execution_count": 25,
   "metadata": {},
   "outputs": [
    {
     "data": {
      "text/plain": [
       "[{'ALG', 'ANL', 'MECH', 'STAT', 'VECT'}]"
      ]
     },
     "execution_count": 25,
     "metadata": {},
     "output_type": "execute_result"
    }
   ],
   "source": [
    "list(nx.connected_components(dg.to_undirected()))"
   ]
  },
  {
   "cell_type": "code",
   "execution_count": 26,
   "metadata": {},
   "outputs": [],
   "source": [
    "ns = pybnl.bn.digraph2netstruct(dg)"
   ]
  },
  {
   "cell_type": "markdown",
   "metadata": {},
   "source": [
    "You can display the graph either in the 'dot' format or in the default more compact 'fdp' format"
   ]
  },
  {
   "cell_type": "code",
   "execution_count": 27,
   "metadata": {},
   "outputs": [
    {
     "data": {
      "text/plain": [
       "graphviz.dot.Digraph"
      ]
     },
     "execution_count": 27,
     "metadata": {},
     "output_type": "execute_result"
    }
   ],
   "source": [
    "type(ns.dot())"
   ]
  },
  {
   "cell_type": "code",
   "execution_count": 28,
   "metadata": {},
   "outputs": [
    {
     "data": {
      "text/html": [
       "<table><tr><td><?xml version=\"1.0\" encoding=\"UTF-8\" standalone=\"no\"?>\n",
       "<!DOCTYPE svg PUBLIC \"-//W3C//DTD SVG 1.1//EN\"\n",
       " \"http://www.w3.org/Graphics/SVG/1.1/DTD/svg11.dtd\">\n",
       "<!-- Generated by graphviz version 2.36.0 (20140111.2315)\n",
       " -->\n",
       "<!-- Title: %3 Pages: 1 -->\n",
       "<svg width=\"108pt\" height=\"332pt\"\n",
       " viewBox=\"0.00 0.00 108.00 332.00\" xmlns=\"http://www.w3.org/2000/svg\" xmlns:xlink=\"http://www.w3.org/1999/xlink\">\n",
       "<g id=\"graph0\" class=\"graph\" transform=\"scale(1 1) rotate(0) translate(4 328)\">\n",
       "<title>%3</title>\n",
       "<polygon fill=\"white\" stroke=\"none\" points=\"-4,4 -4,-328 104,-328 104,4 -4,4\"/>\n",
       "<!-- ALG -->\n",
       "<g id=\"node1\" class=\"node\"><title>ALG</title>\n",
       "<ellipse fill=\"none\" stroke=\"black\" cx=\"36\" cy=\"-162\" rx=\"28.3955\" ry=\"18\"/>\n",
       "<text text-anchor=\"middle\" x=\"36\" y=\"-158.3\" font-family=\"Times,serif\" font-size=\"14.00\">ALG</text>\n",
       "</g>\n",
       "<!-- MECH -->\n",
       "<g id=\"node3\" class=\"node\"><title>MECH</title>\n",
       "<ellipse fill=\"none\" stroke=\"black\" cx=\"36\" cy=\"-18\" rx=\"36.096\" ry=\"18\"/>\n",
       "<text text-anchor=\"middle\" x=\"36\" y=\"-14.3\" font-family=\"Times,serif\" font-size=\"14.00\">MECH</text>\n",
       "</g>\n",
       "<!-- ALG&#45;&gt;MECH -->\n",
       "<g id=\"edge1\" class=\"edge\"><title>ALG&#45;&gt;MECH</title>\n",
       "<path fill=\"none\" stroke=\"black\" d=\"M31.1309,-143.979C28.4358,-133.665 25.3626,-120.189 24,-108 22.2224,-92.0991 22.2224,-87.9009 24,-72 24.9581,-63.4299 26.7618,-54.2228 28.6852,-45.9264\"/>\n",
       "<polygon fill=\"black\" stroke=\"black\" points=\"32.1318,-46.5684 31.1309,-36.0209 25.3358,-44.8904 32.1318,-46.5684\"/>\n",
       "</g>\n",
       "<!-- VECT -->\n",
       "<g id=\"node5\" class=\"node\"><title>VECT</title>\n",
       "<ellipse fill=\"none\" stroke=\"black\" cx=\"67\" cy=\"-90\" rx=\"33.1991\" ry=\"18\"/>\n",
       "<text text-anchor=\"middle\" x=\"67\" y=\"-86.3\" font-family=\"Times,serif\" font-size=\"14.00\">VECT</text>\n",
       "</g>\n",
       "<!-- ALG&#45;&gt;VECT -->\n",
       "<g id=\"edge2\" class=\"edge\"><title>ALG&#45;&gt;VECT</title>\n",
       "<path fill=\"none\" stroke=\"black\" d=\"M43.3466,-144.411C46.923,-136.335 51.309,-126.431 55.3286,-117.355\"/>\n",
       "<polygon fill=\"black\" stroke=\"black\" points=\"58.6417,-118.517 59.4908,-107.956 52.2413,-115.682 58.6417,-118.517\"/>\n",
       "</g>\n",
       "<!-- ANL -->\n",
       "<g id=\"node2\" class=\"node\"><title>ANL</title>\n",
       "<ellipse fill=\"none\" stroke=\"black\" cx=\"65\" cy=\"-234\" rx=\"28.3955\" ry=\"18\"/>\n",
       "<text text-anchor=\"middle\" x=\"65\" y=\"-230.3\" font-family=\"Times,serif\" font-size=\"14.00\">ANL</text>\n",
       "</g>\n",
       "<!-- ANL&#45;&gt;ALG -->\n",
       "<g id=\"edge3\" class=\"edge\"><title>ANL&#45;&gt;ALG</title>\n",
       "<path fill=\"none\" stroke=\"black\" d=\"M58.1274,-216.411C54.7325,-208.216 50.5578,-198.14 46.7527,-188.955\"/>\n",
       "<polygon fill=\"black\" stroke=\"black\" points=\"49.8842,-187.369 42.8233,-179.47 43.4172,-190.048 49.8842,-187.369\"/>\n",
       "</g>\n",
       "<!-- STAT -->\n",
       "<g id=\"node4\" class=\"node\"><title>STAT</title>\n",
       "<ellipse fill=\"none\" stroke=\"black\" cx=\"36\" cy=\"-306\" rx=\"32.2457\" ry=\"18\"/>\n",
       "<text text-anchor=\"middle\" x=\"36\" y=\"-302.3\" font-family=\"Times,serif\" font-size=\"14.00\">STAT</text>\n",
       "</g>\n",
       "<!-- STAT&#45;&gt;ALG -->\n",
       "<g id=\"edge4\" class=\"edge\"><title>STAT&#45;&gt;ALG</title>\n",
       "<path fill=\"none\" stroke=\"black\" d=\"M32.3462,-287.908C30.3242,-277.569 28.0192,-264.09 27,-252 25.6559,-236.057 25.6559,-231.943 27,-216 27.7166,-207.499 29.0689,-198.312 30.5116,-190.012\"/>\n",
       "<polygon fill=\"black\" stroke=\"black\" points=\"33.9691,-190.562 32.3462,-180.092 27.0858,-189.289 33.9691,-190.562\"/>\n",
       "</g>\n",
       "<!-- STAT&#45;&gt;ANL -->\n",
       "<g id=\"edge5\" class=\"edge\"><title>STAT&#45;&gt;ANL</title>\n",
       "<path fill=\"none\" stroke=\"black\" d=\"M42.8726,-288.411C46.2675,-280.216 50.4422,-270.14 54.2473,-260.955\"/>\n",
       "<polygon fill=\"black\" stroke=\"black\" points=\"57.5828,-262.048 58.1767,-251.47 51.1158,-259.369 57.5828,-262.048\"/>\n",
       "</g>\n",
       "<!-- VECT&#45;&gt;MECH -->\n",
       "<g id=\"edge6\" class=\"edge\"><title>VECT&#45;&gt;MECH</title>\n",
       "<path fill=\"none\" stroke=\"black\" d=\"M59.6534,-72.411C56.077,-64.3352 51.691,-54.4312 47.6714,-45.3547\"/>\n",
       "<polygon fill=\"black\" stroke=\"black\" points=\"50.7587,-43.6825 43.5092,-35.9562 44.3583,-46.517 50.7587,-43.6825\"/>\n",
       "</g>\n",
       "</g>\n",
       "</svg>\n",
       "</td><td><?xml version=\"1.0\" encoding=\"UTF-8\" standalone=\"no\"?>\n",
       "<!DOCTYPE svg PUBLIC \"-//W3C//DTD SVG 1.1//EN\"\n",
       " \"http://www.w3.org/Graphics/SVG/1.1/DTD/svg11.dtd\">\n",
       "<!-- Generated by graphviz version 2.36.0 (20140111.2315)\n",
       " -->\n",
       "<!-- Title: %3 Pages: 1 -->\n",
       "<svg width=\"190pt\" height=\"177pt\"\n",
       " viewBox=\"0.00 0.00 190.00 177.00\" xmlns=\"http://www.w3.org/2000/svg\" xmlns:xlink=\"http://www.w3.org/1999/xlink\">\n",
       "<g id=\"graph0\" class=\"graph\" transform=\"scale(1 1) rotate(0) translate(4 173)\">\n",
       "<title>%3</title>\n",
       "<polygon fill=\"white\" stroke=\"none\" points=\"-4,4 -4,-173 186,-173 186,4 -4,4\"/>\n",
       "<!-- ALG -->\n",
       "<g id=\"node1\" class=\"node\"><title>ALG</title>\n",
       "<ellipse fill=\"none\" stroke=\"black\" cx=\"67.3343\" cy=\"-78.1743\" rx=\"28.6953\" ry=\"18\"/>\n",
       "<text text-anchor=\"middle\" x=\"67.3343\" y=\"-74.4743\" font-family=\"Times,serif\" font-size=\"14.00\">ALG</text>\n",
       "</g>\n",
       "<!-- MECH -->\n",
       "<g id=\"node3\" class=\"node\"><title>MECH</title>\n",
       "<ellipse fill=\"none\" stroke=\"black\" cx=\"36.7281\" cy=\"-27.1306\" rx=\"36.2938\" ry=\"18\"/>\n",
       "<text text-anchor=\"middle\" x=\"36.7281\" y=\"-23.4306\" font-family=\"Times,serif\" font-size=\"14.00\">MECH</text>\n",
       "</g>\n",
       "<!-- ALG&#45;&gt;MECH -->\n",
       "<g id=\"edge1\" class=\"edge\"><title>ALG&#45;&gt;MECH</title>\n",
       "<path fill=\"none\" stroke=\"black\" d=\"M57.1429,-61.1775C55.6431,-58.6761 54.0692,-56.0513 52.4889,-53.4157\"/>\n",
       "<polygon fill=\"black\" stroke=\"black\" points=\"55.3331,-51.353 47.1888,-44.5765 49.3296,-54.9528 55.3331,-51.353\"/>\n",
       "</g>\n",
       "<!-- VECT -->\n",
       "<g id=\"node5\" class=\"node\"><title>VECT</title>\n",
       "<ellipse fill=\"none\" stroke=\"black\" cx=\"121.823\" cy=\"-17.6731\" rx=\"33.5952\" ry=\"18\"/>\n",
       "<text text-anchor=\"middle\" x=\"121.823\" y=\"-13.9731\" font-family=\"Times,serif\" font-size=\"14.00\">VECT</text>\n",
       "</g>\n",
       "<!-- ALG&#45;&gt;VECT -->\n",
       "<g id=\"edge2\" class=\"edge\"><title>ALG&#45;&gt;VECT</title>\n",
       "<path fill=\"none\" stroke=\"black\" d=\"M81.6507,-62.2783C87.2712,-56.0377 93.8474,-48.736 100.033,-41.8684\"/>\n",
       "<polygon fill=\"black\" stroke=\"black\" points=\"102.941,-43.8684 107.033,-34.0955 97.74,-39.1838 102.941,-43.8684\"/>\n",
       "</g>\n",
       "<!-- ANL -->\n",
       "<g id=\"node2\" class=\"node\"><title>ANL</title>\n",
       "<ellipse fill=\"none\" stroke=\"black\" cx=\"153.324\" cy=\"-106.084\" rx=\"28.6953\" ry=\"18\"/>\n",
       "<text text-anchor=\"middle\" x=\"153.324\" y=\"-102.384\" font-family=\"Times,serif\" font-size=\"14.00\">ANL</text>\n",
       "</g>\n",
       "<!-- ANL&#45;&gt;ALG -->\n",
       "<g id=\"edge3\" class=\"edge\"><title>ANL&#45;&gt;ALG</title>\n",
       "<path fill=\"none\" stroke=\"black\" d=\"M127.524,-97.7105C119.631,-95.1484 110.811,-92.2859 102.41,-89.5589\"/>\n",
       "<polygon fill=\"black\" stroke=\"black\" points=\"103.412,-86.2044 92.8196,-86.4462 101.251,-92.8625 103.412,-86.2044\"/>\n",
       "</g>\n",
       "<!-- STAT -->\n",
       "<g id=\"node4\" class=\"node\"><title>STAT</title>\n",
       "<ellipse fill=\"none\" stroke=\"black\" cx=\"74.55\" cy=\"-150.881\" rx=\"32.4942\" ry=\"18\"/>\n",
       "<text text-anchor=\"middle\" x=\"74.55\" y=\"-147.181\" font-family=\"Times,serif\" font-size=\"14.00\">STAT</text>\n",
       "</g>\n",
       "<!-- STAT&#45;&gt;ALG -->\n",
       "<g id=\"edge4\" class=\"edge\"><title>STAT&#45;&gt;ALG</title>\n",
       "<path fill=\"none\" stroke=\"black\" d=\"M72.7292,-132.534C71.9456,-124.638 71.0116,-115.227 70.1427,-106.471\"/>\n",
       "<polygon fill=\"black\" stroke=\"black\" points=\"73.6002,-105.869 69.1296,-96.2635 66.6344,-106.56 73.6002,-105.869\"/>\n",
       "</g>\n",
       "<!-- STAT&#45;&gt;ANL -->\n",
       "<g id=\"edge5\" class=\"edge\"><title>STAT&#45;&gt;ANL</title>\n",
       "<path fill=\"none\" stroke=\"black\" d=\"M97.3348,-137.924C105.343,-133.37 114.473,-128.178 123.003,-123.327\"/>\n",
       "<polygon fill=\"black\" stroke=\"black\" points=\"124.979,-126.23 131.942,-118.244 121.519,-120.145 124.979,-126.23\"/>\n",
       "</g>\n",
       "<!-- VECT&#45;&gt;MECH -->\n",
       "<g id=\"edge6\" class=\"edge\"><title>VECT&#45;&gt;MECH</title>\n",
       "<path fill=\"none\" stroke=\"black\" d=\"M88.6797,-21.3567C86.6847,-21.5785 84.6607,-21.8034 82.6264,-22.0295\"/>\n",
       "<polygon fill=\"black\" stroke=\"black\" points=\"82.0081,-18.5766 72.456,-23.1598 82.7814,-25.5337 82.0081,-18.5766\"/>\n",
       "</g>\n",
       "</g>\n",
       "</svg>\n",
       "</td></tr></table>"
      ]
     },
     "metadata": {},
     "output_type": "display_data"
    }
   ],
   "source": [
    "display_graphs_side_by_side(ns.dot(engine='dot'), ns.dot())"
   ]
  },
  {
   "cell_type": "markdown",
   "metadata": {},
   "source": [
    "### Fit the network"
   ]
  },
  {
   "cell_type": "code",
   "execution_count": 29,
   "metadata": {},
   "outputs": [
    {
     "name": "stdout",
     "output_type": "stream",
     "text": [
      "\n",
      "  Bayesian network parameters\n",
      "\n",
      "  Parameters of node ALG (multinomial distribution)\n",
      "\n",
      "Conditional probability table:\n",
      " \n",
      ", , STAT = (9,25.5]\n",
      "\n",
      "             ANL\n",
      "ALG            (9,39.3] (39.3,62.3] (62.3,70]\n",
      "  (15,48.8]   1.0000000   0.5000000          \n",
      "  (48.8,58.7] 0.0000000   0.5000000          \n",
      "  (58.7,80]   0.0000000   0.0000000          \n",
      "\n",
      ", , STAT = (25.5,53.7]\n",
      "\n",
      "             ANL\n",
      "ALG            (9,39.3] (39.3,62.3] (62.3,70]\n",
      "  (15,48.8]   0.7692308   0.2250000          \n",
      "  (48.8,58.7] 0.2307692   0.6250000          \n",
      "  (58.7,80]   0.0000000   0.1500000          \n",
      "\n",
      ", , STAT = (53.7,81]\n",
      "\n",
      "             ANL\n",
      "ALG            (9,39.3] (39.3,62.3] (62.3,70]\n",
      "  (15,48.8]   1.0000000   0.1111111 0.0000000\n",
      "  (48.8,58.7] 0.0000000   0.4444444 0.0000000\n",
      "  (58.7,80]   0.0000000   0.4444444 1.0000000\n",
      "\n",
      "\n",
      "  Parameters of node ANL (multinomial distribution)\n",
      "\n",
      "Conditional probability table:\n",
      " \n",
      "             STAT\n",
      "ANL            (9,25.5] (25.5,53.7] (53.7,81]\n",
      "  (9,39.3]    0.7333333   0.2452830 0.0500000\n",
      "  (39.3,62.3] 0.2666667   0.7547170 0.4500000\n",
      "  (62.3,70]   0.0000000   0.0000000 0.5000000\n",
      "\n",
      "  Parameters of node MECH (multinomial distribution)\n",
      "\n",
      "Conditional probability table:\n",
      " \n",
      ", , VECT = (9,42.2]\n",
      "\n",
      "           ALG\n",
      "MECH         (15,48.8] (48.8,58.7]  (58.7,80]\n",
      "  (0,35.8]  0.77777778  0.50000000 0.00000000\n",
      "  (35.8,49] 0.22222222  0.33333333 1.00000000\n",
      "  (49,77]   0.00000000  0.16666667 0.00000000\n",
      "\n",
      ", , VECT = (42.2,60.7]\n",
      "\n",
      "           ALG\n",
      "MECH         (15,48.8] (48.8,58.7]  (58.7,80]\n",
      "  (0,35.8]  0.33333333  0.33333333 0.57142857\n",
      "  (35.8,49] 0.40000000  0.57142857 0.14285714\n",
      "  (49,77]   0.26666667  0.09523810 0.28571429\n",
      "\n",
      ", , VECT = (60.7,82]\n",
      "\n",
      "           ALG\n",
      "MECH         (15,48.8] (48.8,58.7]  (58.7,80]\n",
      "  (0,35.8]  0.00000000  0.14285714 0.00000000\n",
      "  (35.8,49] 1.00000000  0.57142857 0.08333333\n",
      "  (49,77]   0.00000000  0.28571429 0.91666667\n",
      "\n",
      "\n",
      "  Parameters of node STAT (multinomial distribution)\n",
      "\n",
      "Conditional probability table:\n",
      "    (9,25.5] (25.5,53.7]   (53.7,81] \n",
      "  0.1704545   0.6022727   0.2272727 \n",
      "\n",
      "  Parameters of node VECT (multinomial distribution)\n",
      "\n",
      "Conditional probability table:\n",
      " \n",
      "             ALG\n",
      "VECT           (15,48.8] (48.8,58.7]  (58.7,80]\n",
      "  (9,42.2]    0.52941176  0.17647059 0.05000000\n",
      "  (42.2,60.7] 0.44117647  0.61764706 0.35000000\n",
      "  (60.7,82]   0.02941176  0.20588235 0.60000000\n",
      "\n",
      "\n"
     ]
    }
   ],
   "source": [
    "net_dmarks = pybnl.bn.NetAndDataDiscreteBayesNetwork(dmarks, rnet=ns.rnet)\n",
    "net_dmarks.fit()\n",
    "net_dmarks_net_and_data = net_dmarks\n",
    "print(net_dmarks.rfit)"
   ]
  },
  {
   "cell_type": "markdown",
   "metadata": {},
   "source": [
    "## ConstraintBasedNetFromDataDiscreteBayesNetwork"
   ]
  },
  {
   "cell_type": "code",
   "execution_count": 30,
   "metadata": {},
   "outputs": [
    {
     "data": {
      "image/svg+xml": [
       "<?xml version=\"1.0\" encoding=\"UTF-8\" standalone=\"no\"?>\n",
       "<!DOCTYPE svg PUBLIC \"-//W3C//DTD SVG 1.1//EN\"\n",
       " \"http://www.w3.org/Graphics/SVG/1.1/DTD/svg11.dtd\">\n",
       "<!-- Generated by graphviz version 2.36.0 (20140111.2315)\n",
       " -->\n",
       "<!-- Title: %3 Pages: 1 -->\n",
       "<svg width=\"147pt\" height=\"242pt\"\n",
       " viewBox=\"0.00 0.00 147.00 242.00\" xmlns=\"http://www.w3.org/2000/svg\" xmlns:xlink=\"http://www.w3.org/1999/xlink\">\n",
       "<g id=\"graph0\" class=\"graph\" transform=\"scale(1 1) rotate(0) translate(4 238)\">\n",
       "<title>%3</title>\n",
       "<polygon fill=\"white\" stroke=\"none\" points=\"-4,4 -4,-238 143,-238 143,4 -4,4\"/>\n",
       "<!-- MECH -->\n",
       "<g id=\"node1\" class=\"node\"><title>MECH</title>\n",
       "<ellipse fill=\"none\" stroke=\"black\" cx=\"86.1005\" cy=\"-17.7713\" rx=\"36.2938\" ry=\"18\"/>\n",
       "<text text-anchor=\"middle\" x=\"86.1005\" y=\"-14.0713\" font-family=\"Times,serif\" font-size=\"14.00\">MECH</text>\n",
       "</g>\n",
       "<!-- VECT -->\n",
       "<g id=\"node2\" class=\"node\"><title>VECT</title>\n",
       "<ellipse fill=\"none\" stroke=\"black\" cx=\"105.19\" cy=\"-68.148\" rx=\"33.5952\" ry=\"18\"/>\n",
       "<text text-anchor=\"middle\" x=\"105.19\" y=\"-64.448\" font-family=\"Times,serif\" font-size=\"14.00\">VECT</text>\n",
       "</g>\n",
       "<!-- VECT&#45;&gt;MECH -->\n",
       "<g id=\"edge4\" class=\"edge\"><title>VECT&#45;&gt;MECH</title>\n",
       "<path fill=\"none\" stroke=\"black\" d=\"M98.4057,-50.2453C96.6054,-45.4941 94.6617,-40.3646 92.8625,-35.6165\"/>\n",
       "</g>\n",
       "<!-- ALG -->\n",
       "<g id=\"node3\" class=\"node\"><title>ALG</title>\n",
       "<ellipse fill=\"none\" stroke=\"black\" cx=\"30.6869\" cy=\"-106.849\" rx=\"28.6953\" ry=\"18\"/>\n",
       "<text text-anchor=\"middle\" x=\"30.6869\" y=\"-103.149\" font-family=\"Times,serif\" font-size=\"14.00\">ALG</text>\n",
       "</g>\n",
       "<!-- ALG&#45;&gt;VECT -->\n",
       "<g id=\"edge2\" class=\"edge\"><title>ALG&#45;&gt;VECT</title>\n",
       "<path fill=\"none\" stroke=\"black\" d=\"M53.0402,-95.2374C61.784,-90.6954 71.8389,-85.4723 80.772,-80.8319\"/>\n",
       "</g>\n",
       "<!-- ANL -->\n",
       "<g id=\"node4\" class=\"node\"><title>ANL</title>\n",
       "<ellipse fill=\"none\" stroke=\"black\" cx=\"28.8672\" cy=\"-155.679\" rx=\"28.6953\" ry=\"18\"/>\n",
       "<text text-anchor=\"middle\" x=\"28.8672\" y=\"-151.979\" font-family=\"Times,serif\" font-size=\"14.00\">ANL</text>\n",
       "</g>\n",
       "<!-- ANL&#45;&gt;ALG -->\n",
       "<g id=\"edge1\" class=\"edge\"><title>ANL&#45;&gt;ALG</title>\n",
       "<path fill=\"none\" stroke=\"black\" d=\"M29.5448,-137.496C29.6984,-133.375 29.8615,-128.999 30.0148,-124.884\"/>\n",
       "</g>\n",
       "<!-- STAT -->\n",
       "<g id=\"node5\" class=\"node\"><title>STAT</title>\n",
       "<ellipse fill=\"none\" stroke=\"black\" cx=\"81.8854\" cy=\"-215.675\" rx=\"32.4942\" ry=\"18\"/>\n",
       "<text text-anchor=\"middle\" x=\"81.8854\" y=\"-211.975\" font-family=\"Times,serif\" font-size=\"14.00\">STAT</text>\n",
       "</g>\n",
       "<!-- STAT&#45;&gt;ANL -->\n",
       "<g id=\"edge3\" class=\"edge\"><title>STAT&#45;&gt;ANL</title>\n",
       "<path fill=\"none\" stroke=\"black\" d=\"M67.398,-199.281C59.7944,-190.677 50.5167,-180.178 42.9707,-171.639\"/>\n",
       "</g>\n",
       "</g>\n",
       "</svg>\n"
      ],
      "text/plain": [
       "<graphviz.dot.Digraph at 0x7ff76c6f4c88>"
      ]
     },
     "execution_count": 30,
     "metadata": {},
     "output_type": "execute_result"
    }
   ],
   "source": [
    "net_dmarks = pybnl.bn.ConstraintBasedNetFromDataDiscreteBayesNetwork(dmarks)\n",
    "net_dmarks.fit()\n",
    "net_dmarks_cb = net_dmarks\n",
    "net_dmarks.structure().cpdag().dot()"
   ]
  },
  {
   "cell_type": "markdown",
   "metadata": {},
   "source": [
    "## ScoreBasedNetFromDataDiscreteBayesNetwork"
   ]
  },
  {
   "cell_type": "code",
   "execution_count": 31,
   "metadata": {},
   "outputs": [
    {
     "data": {
      "image/svg+xml": [
       "<?xml version=\"1.0\" encoding=\"UTF-8\" standalone=\"no\"?>\n",
       "<!DOCTYPE svg PUBLIC \"-//W3C//DTD SVG 1.1//EN\"\n",
       " \"http://www.w3.org/Graphics/SVG/1.1/DTD/svg11.dtd\">\n",
       "<!-- Generated by graphviz version 2.36.0 (20140111.2315)\n",
       " -->\n",
       "<!-- Title: %3 Pages: 1 -->\n",
       "<svg width=\"147pt\" height=\"242pt\"\n",
       " viewBox=\"0.00 0.00 147.00 242.00\" xmlns=\"http://www.w3.org/2000/svg\" xmlns:xlink=\"http://www.w3.org/1999/xlink\">\n",
       "<g id=\"graph0\" class=\"graph\" transform=\"scale(1 1) rotate(0) translate(4 238)\">\n",
       "<title>%3</title>\n",
       "<polygon fill=\"white\" stroke=\"none\" points=\"-4,4 -4,-238 143,-238 143,4 -4,4\"/>\n",
       "<!-- MECH -->\n",
       "<g id=\"node1\" class=\"node\"><title>MECH</title>\n",
       "<ellipse fill=\"none\" stroke=\"black\" cx=\"86.1005\" cy=\"-17.7713\" rx=\"36.2938\" ry=\"18\"/>\n",
       "<text text-anchor=\"middle\" x=\"86.1005\" y=\"-14.0713\" font-family=\"Times,serif\" font-size=\"14.00\">MECH</text>\n",
       "</g>\n",
       "<!-- VECT -->\n",
       "<g id=\"node2\" class=\"node\"><title>VECT</title>\n",
       "<ellipse fill=\"none\" stroke=\"black\" cx=\"105.19\" cy=\"-68.148\" rx=\"33.5952\" ry=\"18\"/>\n",
       "<text text-anchor=\"middle\" x=\"105.19\" y=\"-64.448\" font-family=\"Times,serif\" font-size=\"14.00\">VECT</text>\n",
       "</g>\n",
       "<!-- VECT&#45;&gt;MECH -->\n",
       "<g id=\"edge4\" class=\"edge\"><title>VECT&#45;&gt;MECH</title>\n",
       "<path fill=\"none\" stroke=\"black\" d=\"M98.4057,-50.2453C96.6054,-45.4941 94.6617,-40.3646 92.8625,-35.6165\"/>\n",
       "</g>\n",
       "<!-- ALG -->\n",
       "<g id=\"node3\" class=\"node\"><title>ALG</title>\n",
       "<ellipse fill=\"none\" stroke=\"black\" cx=\"30.6869\" cy=\"-106.849\" rx=\"28.6953\" ry=\"18\"/>\n",
       "<text text-anchor=\"middle\" x=\"30.6869\" y=\"-103.149\" font-family=\"Times,serif\" font-size=\"14.00\">ALG</text>\n",
       "</g>\n",
       "<!-- ALG&#45;&gt;VECT -->\n",
       "<g id=\"edge2\" class=\"edge\"><title>ALG&#45;&gt;VECT</title>\n",
       "<path fill=\"none\" stroke=\"black\" d=\"M53.0402,-95.2374C61.784,-90.6954 71.8389,-85.4723 80.772,-80.8319\"/>\n",
       "</g>\n",
       "<!-- ANL -->\n",
       "<g id=\"node4\" class=\"node\"><title>ANL</title>\n",
       "<ellipse fill=\"none\" stroke=\"black\" cx=\"28.8672\" cy=\"-155.679\" rx=\"28.6953\" ry=\"18\"/>\n",
       "<text text-anchor=\"middle\" x=\"28.8672\" y=\"-151.979\" font-family=\"Times,serif\" font-size=\"14.00\">ANL</text>\n",
       "</g>\n",
       "<!-- ANL&#45;&gt;ALG -->\n",
       "<g id=\"edge1\" class=\"edge\"><title>ANL&#45;&gt;ALG</title>\n",
       "<path fill=\"none\" stroke=\"black\" d=\"M29.5448,-137.496C29.6984,-133.375 29.8615,-128.999 30.0148,-124.884\"/>\n",
       "</g>\n",
       "<!-- STAT -->\n",
       "<g id=\"node5\" class=\"node\"><title>STAT</title>\n",
       "<ellipse fill=\"none\" stroke=\"black\" cx=\"81.8854\" cy=\"-215.675\" rx=\"32.4942\" ry=\"18\"/>\n",
       "<text text-anchor=\"middle\" x=\"81.8854\" y=\"-211.975\" font-family=\"Times,serif\" font-size=\"14.00\">STAT</text>\n",
       "</g>\n",
       "<!-- STAT&#45;&gt;ANL -->\n",
       "<g id=\"edge3\" class=\"edge\"><title>STAT&#45;&gt;ANL</title>\n",
       "<path fill=\"none\" stroke=\"black\" d=\"M67.398,-199.281C59.7944,-190.677 50.5167,-180.178 42.9707,-171.639\"/>\n",
       "</g>\n",
       "</g>\n",
       "</svg>\n"
      ],
      "text/plain": [
       "<graphviz.dot.Digraph at 0x7ff76c9d7b00>"
      ]
     },
     "execution_count": 31,
     "metadata": {},
     "output_type": "execute_result"
    }
   ],
   "source": [
    "net_dmarks = pybnl.bn.ScoreBasedNetFromDataDiscreteBayesNetwork(dmarks)\n",
    "net_dmarks.fit()\n",
    "net_dmarks_sb = net_dmarks\n",
    "net_dmarks.structure().cpdag().dot()"
   ]
  },
  {
   "cell_type": "markdown",
   "metadata": {},
   "source": [
    "## HybridScoreAndConstainedBasedNetFromDataDiscreteBayesNetwork"
   ]
  },
  {
   "cell_type": "markdown",
   "metadata": {},
   "source": [
    "### mmhc"
   ]
  },
  {
   "cell_type": "code",
   "execution_count": 32,
   "metadata": {},
   "outputs": [
    {
     "data": {
      "image/svg+xml": [
       "<?xml version=\"1.0\" encoding=\"UTF-8\" standalone=\"no\"?>\n",
       "<!DOCTYPE svg PUBLIC \"-//W3C//DTD SVG 1.1//EN\"\n",
       " \"http://www.w3.org/Graphics/SVG/1.1/DTD/svg11.dtd\">\n",
       "<!-- Generated by graphviz version 2.36.0 (20140111.2315)\n",
       " -->\n",
       "<!-- Title: %3 Pages: 1 -->\n",
       "<svg width=\"215pt\" height=\"164pt\"\n",
       " viewBox=\"0.00 0.00 215.00 164.00\" xmlns=\"http://www.w3.org/2000/svg\" xmlns:xlink=\"http://www.w3.org/1999/xlink\">\n",
       "<g id=\"graph0\" class=\"graph\" transform=\"scale(1 1) rotate(0) translate(4 160)\">\n",
       "<title>%3</title>\n",
       "<polygon fill=\"white\" stroke=\"none\" points=\"-4,4 -4,-160 211,-160 211,4 -4,4\"/>\n",
       "<!-- MECH -->\n",
       "<g id=\"node1\" class=\"node\"><title>MECH</title>\n",
       "<ellipse fill=\"none\" stroke=\"black\" cx=\"36.0037\" cy=\"-125.845\" rx=\"36.2938\" ry=\"18\"/>\n",
       "<text text-anchor=\"middle\" x=\"36.0037\" y=\"-122.145\" font-family=\"Times,serif\" font-size=\"14.00\">MECH</text>\n",
       "</g>\n",
       "<!-- VECT -->\n",
       "<g id=\"node2\" class=\"node\"><title>VECT</title>\n",
       "<ellipse fill=\"none\" stroke=\"black\" cx=\"99.8874\" cy=\"-78.2306\" rx=\"33.5952\" ry=\"18\"/>\n",
       "<text text-anchor=\"middle\" x=\"99.8874\" y=\"-74.5306\" font-family=\"Times,serif\" font-size=\"14.00\">VECT</text>\n",
       "</g>\n",
       "<!-- VECT&#45;&gt;MECH -->\n",
       "<g id=\"edge2\" class=\"edge\"><title>VECT&#45;&gt;MECH</title>\n",
       "<path fill=\"none\" stroke=\"black\" d=\"M80.0244,-93.0352C72.5524,-98.6043 64.0463,-104.944 56.5163,-110.557\"/>\n",
       "</g>\n",
       "<!-- ALG -->\n",
       "<g id=\"node3\" class=\"node\"><title>ALG</title>\n",
       "<ellipse fill=\"none\" stroke=\"black\" cx=\"102.464\" cy=\"-28.1198\" rx=\"28.6953\" ry=\"18\"/>\n",
       "<text text-anchor=\"middle\" x=\"102.464\" y=\"-24.4198\" font-family=\"Times,serif\" font-size=\"14.00\">ALG</text>\n",
       "</g>\n",
       "<!-- ALG&#45;&gt;VECT -->\n",
       "<g id=\"edge1\" class=\"edge\"><title>ALG&#45;&gt;VECT</title>\n",
       "<path fill=\"none\" stroke=\"black\" d=\"M101.534,-46.211C101.303,-50.6965 101.056,-55.5054 100.825,-59.9977\"/>\n",
       "</g>\n",
       "<!-- ANL -->\n",
       "<g id=\"node4\" class=\"node\"><title>ANL</title>\n",
       "<ellipse fill=\"none\" stroke=\"black\" cx=\"178.238\" cy=\"-17.6409\" rx=\"28.6953\" ry=\"18\"/>\n",
       "<text text-anchor=\"middle\" x=\"178.238\" y=\"-13.9409\" font-family=\"Times,serif\" font-size=\"14.00\">ANL</text>\n",
       "</g>\n",
       "<!-- STAT -->\n",
       "<g id=\"node5\" class=\"node\"><title>STAT</title>\n",
       "<ellipse fill=\"none\" stroke=\"black\" cx=\"142.238\" cy=\"-137.641\" rx=\"32.4942\" ry=\"18\"/>\n",
       "<text text-anchor=\"middle\" x=\"142.238\" y=\"-133.941\" font-family=\"Times,serif\" font-size=\"14.00\">STAT</text>\n",
       "</g>\n",
       "</g>\n",
       "</svg>\n"
      ],
      "text/plain": [
       "<graphviz.dot.Digraph at 0x7ff76c985ac8>"
      ]
     },
     "execution_count": 32,
     "metadata": {},
     "output_type": "execute_result"
    }
   ],
   "source": [
    "net_dmarks = pybnl.bn.HybridScoreAndConstainedBasedNetFromDataDiscreteBayesNetwork(dmarks)\n",
    "net_dmarks.fit()\n",
    "net_dmarks_hyb_mmhc = net_dmarks\n",
    "net_dmarks.structure().cpdag().dot()"
   ]
  },
  {
   "cell_type": "markdown",
   "metadata": {},
   "source": [
    "### rxmax2_sihitonpc_tabu"
   ]
  },
  {
   "cell_type": "code",
   "execution_count": 33,
   "metadata": {},
   "outputs": [
    {
     "data": {
      "image/svg+xml": [
       "<?xml version=\"1.0\" encoding=\"UTF-8\" standalone=\"no\"?>\n",
       "<!DOCTYPE svg PUBLIC \"-//W3C//DTD SVG 1.1//EN\"\n",
       " \"http://www.w3.org/Graphics/SVG/1.1/DTD/svg11.dtd\">\n",
       "<!-- Generated by graphviz version 2.36.0 (20140111.2315)\n",
       " -->\n",
       "<!-- Title: %3 Pages: 1 -->\n",
       "<svg width=\"234pt\" height=\"132pt\"\n",
       " viewBox=\"0.00 0.00 234.00 132.00\" xmlns=\"http://www.w3.org/2000/svg\" xmlns:xlink=\"http://www.w3.org/1999/xlink\">\n",
       "<g id=\"graph0\" class=\"graph\" transform=\"scale(1 1) rotate(0) translate(4 128)\">\n",
       "<title>%3</title>\n",
       "<polygon fill=\"white\" stroke=\"none\" points=\"-4,4 -4,-128 230,-128 230,4 -4,4\"/>\n",
       "<!-- MECH -->\n",
       "<g id=\"node1\" class=\"node\"><title>MECH</title>\n",
       "<ellipse fill=\"none\" stroke=\"black\" cx=\"36.4333\" cy=\"-30.6748\" rx=\"36.2938\" ry=\"18\"/>\n",
       "<text text-anchor=\"middle\" x=\"36.4333\" y=\"-26.9748\" font-family=\"Times,serif\" font-size=\"14.00\">MECH</text>\n",
       "</g>\n",
       "<!-- VECT -->\n",
       "<g id=\"node2\" class=\"node\"><title>VECT</title>\n",
       "<ellipse fill=\"none\" stroke=\"black\" cx=\"119.835\" cy=\"-18.2141\" rx=\"33.5952\" ry=\"18\"/>\n",
       "<text text-anchor=\"middle\" x=\"119.835\" y=\"-14.5141\" font-family=\"Times,serif\" font-size=\"14.00\">VECT</text>\n",
       "</g>\n",
       "<!-- VECT&#45;&gt;MECH -->\n",
       "<g id=\"edge2\" class=\"edge\"><title>VECT&#45;&gt;MECH</title>\n",
       "<path fill=\"none\" stroke=\"black\" d=\"M86.8726,-23.1389C81.773,-23.9008 76.4909,-24.69 71.3502,-25.458\"/>\n",
       "</g>\n",
       "<!-- ALG -->\n",
       "<g id=\"node3\" class=\"node\"><title>ALG</title>\n",
       "<ellipse fill=\"none\" stroke=\"black\" cx=\"132.406\" cy=\"-75.3342\" rx=\"28.6953\" ry=\"18\"/>\n",
       "<text text-anchor=\"middle\" x=\"132.406\" y=\"-71.6342\" font-family=\"Times,serif\" font-size=\"14.00\">ALG</text>\n",
       "</g>\n",
       "<!-- ANL -->\n",
       "<g id=\"node4\" class=\"node\"><title>ANL</title>\n",
       "<ellipse fill=\"none\" stroke=\"black\" cx=\"197.862\" cy=\"-65.5547\" rx=\"28.6953\" ry=\"18\"/>\n",
       "<text text-anchor=\"middle\" x=\"197.862\" y=\"-61.8547\" font-family=\"Times,serif\" font-size=\"14.00\">ANL</text>\n",
       "</g>\n",
       "<!-- ANL&#45;&gt;ALG -->\n",
       "<g id=\"edge1\" class=\"edge\"><title>ANL&#45;&gt;ALG</title>\n",
       "<path fill=\"none\" stroke=\"black\" d=\"M169.723,-69.7588C166.674,-70.2144 163.571,-70.6781 160.522,-71.1336\"/>\n",
       "</g>\n",
       "<!-- STAT -->\n",
       "<g id=\"node5\" class=\"node\"><title>STAT</title>\n",
       "<ellipse fill=\"none\" stroke=\"black\" cx=\"56.2381\" cy=\"-105.641\" rx=\"32.4942\" ry=\"18\"/>\n",
       "<text text-anchor=\"middle\" x=\"56.2381\" y=\"-101.941\" font-family=\"Times,serif\" font-size=\"14.00\">STAT</text>\n",
       "</g>\n",
       "</g>\n",
       "</svg>\n"
      ],
      "text/plain": [
       "<graphviz.dot.Digraph at 0x7ff76c6f2e80>"
      ]
     },
     "execution_count": 33,
     "metadata": {},
     "output_type": "execute_result"
    }
   ],
   "source": [
    "net_dmarks = pybnl.bn.HybridScoreAndConstainedBasedNetFromDataDiscreteBayesNetwork(dmarks, algorithm='rxmax2_sihitonpc_tabu')\n",
    "net_dmarks.fit()\n",
    "net_dmarks_hyb_rsmax = net_dmarks\n",
    "net_dmarks.structure().cpdag().dot()"
   ]
  },
  {
   "cell_type": "markdown",
   "metadata": {},
   "source": [
    "## Comparison"
   ]
  },
  {
   "cell_type": "code",
   "execution_count": 34,
   "metadata": {},
   "outputs": [
    {
     "data": {
      "text/html": [
       "<table style=\"display:inline\" border=\"1\" class=\"dataframe\">\n",
       "  <thead>\n",
       "    <tr style=\"text-align: right;\">\n",
       "      <th></th>\n",
       "      <th>algorithm</th>\n",
       "      <th>score</th>\n",
       "    </tr>\n",
       "  </thead>\n",
       "  <tbody>\n",
       "    <tr>\n",
       "      <th>0</th>\n",
       "      <td>ConstraintBased</td>\n",
       "      <td>-411.497387</td>\n",
       "    </tr>\n",
       "    <tr>\n",
       "      <th>1</th>\n",
       "      <td>ScoreBased</td>\n",
       "      <td>-411.497387</td>\n",
       "    </tr>\n",
       "    <tr>\n",
       "      <th>2</th>\n",
       "      <td>mmhc</td>\n",
       "      <td>-452.330225</td>\n",
       "    </tr>\n",
       "    <tr>\n",
       "      <th>3</th>\n",
       "      <td>rsmax</td>\n",
       "      <td>-434.906936</td>\n",
       "    </tr>\n",
       "  </tbody>\n",
       "</table style=\"display:inline\"><table style=\"display:inline\" border=\"1\" class=\"dataframe\">\n",
       "  <thead>\n",
       "    <tr style=\"text-align: right;\">\n",
       "      <th></th>\n",
       "      <th>algorithm</th>\n",
       "      <th>score</th>\n",
       "    </tr>\n",
       "  </thead>\n",
       "  <tbody>\n",
       "    <tr>\n",
       "      <th>0</th>\n",
       "      <td>ConstraintBased</td>\n",
       "      <td>-353.292008</td>\n",
       "    </tr>\n",
       "    <tr>\n",
       "      <th>1</th>\n",
       "      <td>ScoreBased</td>\n",
       "      <td>-353.292008</td>\n",
       "    </tr>\n",
       "    <tr>\n",
       "      <th>2</th>\n",
       "      <td>mmhc</td>\n",
       "      <td>-412.034194</td>\n",
       "    </tr>\n",
       "    <tr>\n",
       "      <th>3</th>\n",
       "      <td>rsmax</td>\n",
       "      <td>-394.610904</td>\n",
       "    </tr>\n",
       "  </tbody>\n",
       "</table style=\"display:inline\">"
      ]
     },
     "metadata": {},
     "output_type": "display_data"
    }
   ],
   "source": [
    "def score(type='bic'):\n",
    "    cdf = pd.DataFrame(columns=['algorithm', 'score'])\n",
    "    cdf.loc[len(cdf)] = ['ConstraintBased', net_dmarks_cb.score(type=type)]\n",
    "    cdf.loc[len(cdf)] = ['ScoreBased', net_dmarks_sb.score(type=type)]\n",
    "    cdf.loc[len(cdf)] = ['mmhc', net_dmarks_hyb_mmhc.score(type=type)]\n",
    "    cdf.loc[len(cdf)] = ['rsmax', net_dmarks_hyb_rsmax.score(type=type)]\n",
    "    return cdf\n",
    "\n",
    "display_side_by_side(score(), score(type='loglik'))"
   ]
  },
  {
   "cell_type": "code",
   "execution_count": 35,
   "metadata": {},
   "outputs": [
    {
     "data": {
      "text/plain": [
       "45.10970279456899"
      ]
     },
     "execution_count": 35,
     "metadata": {},
     "output_type": "execute_result"
    }
   ],
   "source": [
    "net_dmarks_cb.structure().bf(net_dmarks_hyb_mmhc.structure(), dmarks)"
   ]
  },
  {
   "cell_type": "code",
   "execution_count": 36,
   "metadata": {},
   "outputs": [
    {
     "data": {
      "text/plain": [
       "45.10970279456899"
      ]
     },
     "execution_count": 36,
     "metadata": {},
     "output_type": "execute_result"
    }
   ],
   "source": [
    "net_dmarks_cb.bf(net_dmarks_hyb_mmhc, dmarks)"
   ]
  },
  {
   "cell_type": "code",
   "execution_count": 37,
   "metadata": {},
   "outputs": [
    {
     "data": {
      "text/plain": [
       "45.10970279456899"
      ]
     },
     "execution_count": 37,
     "metadata": {},
     "output_type": "execute_result"
    }
   ],
   "source": [
    "net_dmarks_cb.bf(net_dmarks_hyb_mmhc)"
   ]
  },
  {
   "cell_type": "markdown",
   "metadata": {},
   "source": [
    "## sklearn pipeline"
   ]
  },
  {
   "cell_type": "code",
   "execution_count": 38,
   "metadata": {},
   "outputs": [
    {
     "data": {
      "text/plain": [
       "Pipeline(memory=None,\n",
       "     steps=[('hartemink', HarteminkBinTransformer(breaks=3, ibreaks=18)), ('score', ScoreBasedNetFromDataDiscreteBayesNetwork(algorithm=None, ldf=None,\n",
       "                     whitelist=None))])"
      ]
     },
     "execution_count": 38,
     "metadata": {},
     "output_type": "execute_result"
    }
   ],
   "source": [
    "pl = sklearn.pipeline.Pipeline(\n",
    "    steps=[\n",
    "        ('hartemink', pybnl.bn.HarteminkBinTransformer(3,ibreaks=18)),\n",
    "        ('score', pybnl.bn.ScoreBasedNetFromDataDiscreteBayesNetwork()),\n",
    "          ]\n",
    ")\n",
    "pl.set_params(hartemink__breaks=3).fit(pd_marks, None)"
   ]
  },
  {
   "cell_type": "code",
   "execution_count": 39,
   "metadata": {},
   "outputs": [
    {
     "data": {
      "text/plain": [
       "-411.49738682714093"
      ]
     },
     "execution_count": 39,
     "metadata": {},
     "output_type": "execute_result"
    }
   ],
   "source": [
    "pl.score(dmarks)"
   ]
  },
  {
   "cell_type": "code",
   "execution_count": 40,
   "metadata": {},
   "outputs": [
    {
     "data": {
      "image/svg+xml": [
       "<?xml version=\"1.0\" encoding=\"UTF-8\" standalone=\"no\"?>\n",
       "<!DOCTYPE svg PUBLIC \"-//W3C//DTD SVG 1.1//EN\"\n",
       " \"http://www.w3.org/Graphics/SVG/1.1/DTD/svg11.dtd\">\n",
       "<!-- Generated by graphviz version 2.36.0 (20140111.2315)\n",
       " -->\n",
       "<!-- Title: %3 Pages: 1 -->\n",
       "<svg width=\"147pt\" height=\"242pt\"\n",
       " viewBox=\"0.00 0.00 147.00 242.00\" xmlns=\"http://www.w3.org/2000/svg\" xmlns:xlink=\"http://www.w3.org/1999/xlink\">\n",
       "<g id=\"graph0\" class=\"graph\" transform=\"scale(1 1) rotate(0) translate(4 238)\">\n",
       "<title>%3</title>\n",
       "<polygon fill=\"white\" stroke=\"none\" points=\"-4,4 -4,-238 143,-238 143,4 -4,4\"/>\n",
       "<!-- MECH -->\n",
       "<g id=\"node1\" class=\"node\"><title>MECH</title>\n",
       "<ellipse fill=\"none\" stroke=\"black\" cx=\"86.1005\" cy=\"-17.7713\" rx=\"36.2938\" ry=\"18\"/>\n",
       "<text text-anchor=\"middle\" x=\"86.1005\" y=\"-14.0713\" font-family=\"Times,serif\" font-size=\"14.00\">MECH</text>\n",
       "</g>\n",
       "<!-- VECT -->\n",
       "<g id=\"node2\" class=\"node\"><title>VECT</title>\n",
       "<ellipse fill=\"none\" stroke=\"black\" cx=\"105.19\" cy=\"-68.148\" rx=\"33.5952\" ry=\"18\"/>\n",
       "<text text-anchor=\"middle\" x=\"105.19\" y=\"-64.448\" font-family=\"Times,serif\" font-size=\"14.00\">VECT</text>\n",
       "</g>\n",
       "<!-- VECT&#45;&gt;MECH -->\n",
       "<g id=\"edge1\" class=\"edge\"><title>VECT&#45;&gt;MECH</title>\n",
       "<path fill=\"none\" stroke=\"black\" d=\"M98.4057,-50.2453C97.7868,-48.612 97.151,-46.9341 96.51,-45.2424\"/>\n",
       "<polygon fill=\"black\" stroke=\"black\" points=\"99.6789,-43.7274 92.8625,-35.6165 93.133,-46.2079 99.6789,-43.7274\"/>\n",
       "</g>\n",
       "<!-- ALG -->\n",
       "<g id=\"node3\" class=\"node\"><title>ALG</title>\n",
       "<ellipse fill=\"none\" stroke=\"black\" cx=\"30.6869\" cy=\"-106.849\" rx=\"28.6953\" ry=\"18\"/>\n",
       "<text text-anchor=\"middle\" x=\"30.6869\" y=\"-103.149\" font-family=\"Times,serif\" font-size=\"14.00\">ALG</text>\n",
       "</g>\n",
       "<!-- ALG&#45;&gt;VECT -->\n",
       "<g id=\"edge2\" class=\"edge\"><title>ALG&#45;&gt;VECT</title>\n",
       "<path fill=\"none\" stroke=\"black\" d=\"M53.0402,-95.2374C58.9149,-92.1857 65.3815,-88.8266 71.7021,-85.5433\"/>\n",
       "<polygon fill=\"black\" stroke=\"black\" points=\"73.5113,-88.5476 80.772,-80.8319 70.2844,-82.3357 73.5113,-88.5476\"/>\n",
       "</g>\n",
       "<!-- ANL -->\n",
       "<g id=\"node4\" class=\"node\"><title>ANL</title>\n",
       "<ellipse fill=\"none\" stroke=\"black\" cx=\"28.8672\" cy=\"-155.679\" rx=\"28.6953\" ry=\"18\"/>\n",
       "<text text-anchor=\"middle\" x=\"28.8672\" y=\"-151.979\" font-family=\"Times,serif\" font-size=\"14.00\">ANL</text>\n",
       "</g>\n",
       "<!-- ALG&#45;&gt;ANL -->\n",
       "<g id=\"edge3\" class=\"edge\"><title>ALG&#45;&gt;ANL</title>\n",
       "<path fill=\"none\" stroke=\"black\" d=\"M30.0093,-125.031C29.9806,-125.804 29.9514,-126.586 29.9221,-127.373\"/>\n",
       "<polygon fill=\"black\" stroke=\"black\" points=\"26.4143,-127.52 29.5393,-137.644 33.4094,-127.781 26.4143,-127.52\"/>\n",
       "</g>\n",
       "<!-- STAT -->\n",
       "<g id=\"node5\" class=\"node\"><title>STAT</title>\n",
       "<ellipse fill=\"none\" stroke=\"black\" cx=\"81.8854\" cy=\"-215.675\" rx=\"32.4942\" ry=\"18\"/>\n",
       "<text text-anchor=\"middle\" x=\"81.8854\" y=\"-211.975\" font-family=\"Times,serif\" font-size=\"14.00\">STAT</text>\n",
       "</g>\n",
       "<!-- ANL&#45;&gt;STAT -->\n",
       "<g id=\"edge4\" class=\"edge\"><title>ANL&#45;&gt;STAT</title>\n",
       "<path fill=\"none\" stroke=\"black\" d=\"M42.7971,-171.442C48.2659,-177.631 54.6645,-184.872 60.6827,-191.682\"/>\n",
       "<polygon fill=\"black\" stroke=\"black\" points=\"58.2497,-194.214 67.4943,-199.39 63.4951,-189.579 58.2497,-194.214\"/>\n",
       "</g>\n",
       "</g>\n",
       "</svg>\n"
      ],
      "text/plain": [
       "<graphviz.dot.Digraph at 0x7ff76c981630>"
      ]
     },
     "execution_count": 40,
     "metadata": {},
     "output_type": "execute_result"
    }
   ],
   "source": [
    "pl.steps[-1][1].structure().dot()"
   ]
  },
  {
   "cell_type": "code",
   "execution_count": 41,
   "metadata": {},
   "outputs": [
    {
     "data": {
      "text/plain": [
       "-682.3887051571114"
      ]
     },
     "execution_count": 41,
     "metadata": {},
     "output_type": "execute_result"
    }
   ],
   "source": [
    "pl.set_params(hartemink__breaks=5).fit(pd_marks, None)\n",
    "pl.score(dmarks)"
   ]
  },
  {
   "cell_type": "code",
   "execution_count": 42,
   "metadata": {},
   "outputs": [
    {
     "data": {
      "image/svg+xml": [
       "<?xml version=\"1.0\" encoding=\"UTF-8\" standalone=\"no\"?>\n",
       "<!DOCTYPE svg PUBLIC \"-//W3C//DTD SVG 1.1//EN\"\n",
       " \"http://www.w3.org/Graphics/SVG/1.1/DTD/svg11.dtd\">\n",
       "<!-- Generated by graphviz version 2.36.0 (20140111.2315)\n",
       " -->\n",
       "<!-- Title: %3 Pages: 1 -->\n",
       "<svg width=\"226pt\" height=\"164pt\"\n",
       " viewBox=\"0.00 0.00 226.00 164.00\" xmlns=\"http://www.w3.org/2000/svg\" xmlns:xlink=\"http://www.w3.org/1999/xlink\">\n",
       "<g id=\"graph0\" class=\"graph\" transform=\"scale(1 1) rotate(0) translate(4 160)\">\n",
       "<title>%3</title>\n",
       "<polygon fill=\"white\" stroke=\"none\" points=\"-4,4 -4,-160 222,-160 222,4 -4,4\"/>\n",
       "<!-- MECH -->\n",
       "<g id=\"node1\" class=\"node\"><title>MECH</title>\n",
       "<ellipse fill=\"none\" stroke=\"black\" cx=\"146.238\" cy=\"-137.641\" rx=\"36.2938\" ry=\"18\"/>\n",
       "<text text-anchor=\"middle\" x=\"146.238\" y=\"-133.941\" font-family=\"Times,serif\" font-size=\"14.00\">MECH</text>\n",
       "</g>\n",
       "<!-- VECT -->\n",
       "<g id=\"node2\" class=\"node\"><title>VECT</title>\n",
       "<ellipse fill=\"none\" stroke=\"black\" cx=\"184.238\" cy=\"-17.6409\" rx=\"33.5952\" ry=\"18\"/>\n",
       "<text text-anchor=\"middle\" x=\"184.238\" y=\"-13.9409\" font-family=\"Times,serif\" font-size=\"14.00\">VECT</text>\n",
       "</g>\n",
       "<!-- ALG -->\n",
       "<g id=\"node3\" class=\"node\"><title>ALG</title>\n",
       "<ellipse fill=\"none\" stroke=\"black\" cx=\"28.9966\" cy=\"-127.838\" rx=\"28.6953\" ry=\"18\"/>\n",
       "<text text-anchor=\"middle\" x=\"28.9966\" y=\"-124.138\" font-family=\"Times,serif\" font-size=\"14.00\">ALG</text>\n",
       "</g>\n",
       "<!-- ANL -->\n",
       "<g id=\"node4\" class=\"node\"><title>ANL</title>\n",
       "<ellipse fill=\"none\" stroke=\"black\" cx=\"93.3455\" cy=\"-80.6827\" rx=\"28.6953\" ry=\"18\"/>\n",
       "<text text-anchor=\"middle\" x=\"93.3455\" y=\"-76.9827\" font-family=\"Times,serif\" font-size=\"14.00\">ANL</text>\n",
       "</g>\n",
       "<!-- ALG&#45;&gt;ANL -->\n",
       "<g id=\"edge1\" class=\"edge\"><title>ALG&#45;&gt;ANL</title>\n",
       "<path fill=\"none\" stroke=\"black\" d=\"M47.9554,-113.945C53.6646,-109.761 60.0458,-105.085 66.1782,-100.591\"/>\n",
       "<polygon fill=\"black\" stroke=\"black\" points=\"68.3026,-103.373 74.2999,-94.6393 64.165,-97.7271 68.3026,-103.373\"/>\n",
       "</g>\n",
       "<!-- STAT -->\n",
       "<g id=\"node5\" class=\"node\"><title>STAT</title>\n",
       "<ellipse fill=\"none\" stroke=\"black\" cx=\"95.0375\" cy=\"-28.3675\" rx=\"32.4942\" ry=\"18\"/>\n",
       "<text text-anchor=\"middle\" x=\"95.0375\" y=\"-24.6675\" font-family=\"Times,serif\" font-size=\"14.00\">STAT</text>\n",
       "</g>\n",
       "<!-- ANL&#45;&gt;STAT -->\n",
       "<g id=\"edge2\" class=\"edge\"><title>ANL&#45;&gt;STAT</title>\n",
       "<path fill=\"none\" stroke=\"black\" d=\"M93.9278,-62.6788C93.9909,-60.7281 94.0561,-58.7101 94.122,-56.6747\"/>\n",
       "<polygon fill=\"black\" stroke=\"black\" points=\"97.6232,-56.6902 94.4484,-46.5822 90.6268,-56.4638 97.6232,-56.6902\"/>\n",
       "</g>\n",
       "</g>\n",
       "</svg>\n"
      ],
      "text/plain": [
       "<graphviz.dot.Digraph at 0x7ff76c985f28>"
      ]
     },
     "execution_count": 42,
     "metadata": {},
     "output_type": "execute_result"
    }
   ],
   "source": [
    "pl.steps[-1][1].structure().dot()"
   ]
  },
  {
   "cell_type": "code",
   "execution_count": 43,
   "metadata": {},
   "outputs": [
    {
     "data": {
      "text/plain": [
       "-876.9315865210814"
      ]
     },
     "execution_count": 43,
     "metadata": {},
     "output_type": "execute_result"
    }
   ],
   "source": [
    "pl.set_params(hartemink__breaks=7).fit(pd_marks, None)\n",
    "pl.score(dmarks)"
   ]
  },
  {
   "cell_type": "code",
   "execution_count": 44,
   "metadata": {},
   "outputs": [
    {
     "data": {
      "image/svg+xml": [
       "<?xml version=\"1.0\" encoding=\"UTF-8\" standalone=\"no\"?>\n",
       "<!DOCTYPE svg PUBLIC \"-//W3C//DTD SVG 1.1//EN\"\n",
       " \"http://www.w3.org/Graphics/SVG/1.1/DTD/svg11.dtd\">\n",
       "<!-- Generated by graphviz version 2.36.0 (20140111.2315)\n",
       " -->\n",
       "<!-- Title: %3 Pages: 1 -->\n",
       "<svg width=\"185pt\" height=\"158pt\"\n",
       " viewBox=\"0.00 0.00 185.00 158.00\" xmlns=\"http://www.w3.org/2000/svg\" xmlns:xlink=\"http://www.w3.org/1999/xlink\">\n",
       "<g id=\"graph0\" class=\"graph\" transform=\"scale(1 1) rotate(0) translate(4 154)\">\n",
       "<title>%3</title>\n",
       "<polygon fill=\"white\" stroke=\"none\" points=\"-4,4 -4,-154 181,-154 181,4 -4,4\"/>\n",
       "<!-- MECH -->\n",
       "<g id=\"node1\" class=\"node\"><title>MECH</title>\n",
       "<ellipse fill=\"none\" stroke=\"black\" cx=\"42.2381\" cy=\"-35.6409\" rx=\"36.2938\" ry=\"18\"/>\n",
       "<text text-anchor=\"middle\" x=\"42.2381\" y=\"-31.9409\" font-family=\"Times,serif\" font-size=\"14.00\">MECH</text>\n",
       "</g>\n",
       "<!-- VECT -->\n",
       "<g id=\"node2\" class=\"node\"><title>VECT</title>\n",
       "<ellipse fill=\"none\" stroke=\"black\" cx=\"124.238\" cy=\"-17.6409\" rx=\"33.5952\" ry=\"18\"/>\n",
       "<text text-anchor=\"middle\" x=\"124.238\" y=\"-13.9409\" font-family=\"Times,serif\" font-size=\"14.00\">VECT</text>\n",
       "</g>\n",
       "<!-- ALG -->\n",
       "<g id=\"node3\" class=\"node\"><title>ALG</title>\n",
       "<ellipse fill=\"none\" stroke=\"black\" cx=\"148.238\" cy=\"-131.641\" rx=\"28.6953\" ry=\"18\"/>\n",
       "<text text-anchor=\"middle\" x=\"148.238\" y=\"-127.941\" font-family=\"Times,serif\" font-size=\"14.00\">ALG</text>\n",
       "</g>\n",
       "<!-- ANL -->\n",
       "<g id=\"node4\" class=\"node\"><title>ANL</title>\n",
       "<ellipse fill=\"none\" stroke=\"black\" cx=\"28.2381\" cy=\"-107.641\" rx=\"28.6953\" ry=\"18\"/>\n",
       "<text text-anchor=\"middle\" x=\"28.2381\" y=\"-103.941\" font-family=\"Times,serif\" font-size=\"14.00\">ANL</text>\n",
       "</g>\n",
       "<!-- STAT -->\n",
       "<g id=\"node5\" class=\"node\"><title>STAT</title>\n",
       "<ellipse fill=\"none\" stroke=\"black\" cx=\"104.238\" cy=\"-83.6409\" rx=\"32.4942\" ry=\"18\"/>\n",
       "<text text-anchor=\"middle\" x=\"104.238\" y=\"-79.9409\" font-family=\"Times,serif\" font-size=\"14.00\">STAT</text>\n",
       "</g>\n",
       "</g>\n",
       "</svg>\n"
      ],
      "text/plain": [
       "<graphviz.dot.Digraph at 0x7ff76c6f7c88>"
      ]
     },
     "execution_count": 44,
     "metadata": {},
     "output_type": "execute_result"
    }
   ],
   "source": [
    "pl.steps[-1][1].structure().dot()"
   ]
  },
  {
   "cell_type": "markdown",
   "metadata": {},
   "source": [
    "## StructuralEMNetFromDataDiscreteBayesNetwork"
   ]
  },
  {
   "cell_type": "code",
   "execution_count": 45,
   "metadata": {},
   "outputs": [
    {
     "data": {
      "text/plain": [
       "Index(['MECH', 'VECT', 'ALG', 'ANL', 'STAT', 'LAT'], dtype='object')"
      ]
     },
     "execution_count": 45,
     "metadata": {},
     "output_type": "execute_result"
    }
   ],
   "source": [
    "ldmarks.columns"
   ]
  },
  {
   "cell_type": "code",
   "execution_count": 46,
   "metadata": {},
   "outputs": [
    {
     "name": "stdout",
     "output_type": "stream",
     "text": [
      "identified latent variables: ['LAT']\n"
     ]
    },
    {
     "data": {
      "image/svg+xml": [
       "<?xml version=\"1.0\" encoding=\"UTF-8\" standalone=\"no\"?>\n",
       "<!DOCTYPE svg PUBLIC \"-//W3C//DTD SVG 1.1//EN\"\n",
       " \"http://www.w3.org/Graphics/SVG/1.1/DTD/svg11.dtd\">\n",
       "<!-- Generated by graphviz version 2.36.0 (20140111.2315)\n",
       " -->\n",
       "<!-- Title: %3 Pages: 1 -->\n",
       "<svg width=\"239pt\" height=\"178pt\"\n",
       " viewBox=\"0.00 0.00 239.00 178.00\" xmlns=\"http://www.w3.org/2000/svg\" xmlns:xlink=\"http://www.w3.org/1999/xlink\">\n",
       "<g id=\"graph0\" class=\"graph\" transform=\"scale(1 1) rotate(0) translate(4 174)\">\n",
       "<title>%3</title>\n",
       "<polygon fill=\"white\" stroke=\"none\" points=\"-4,4 -4,-174 235,-174 235,4 -4,4\"/>\n",
       "<!-- MECH -->\n",
       "<g id=\"node1\" class=\"node\"><title>MECH</title>\n",
       "<ellipse fill=\"none\" stroke=\"black\" cx=\"36.1976\" cy=\"-106.304\" rx=\"36.2938\" ry=\"18\"/>\n",
       "<text text-anchor=\"middle\" x=\"36.1976\" y=\"-102.604\" font-family=\"Times,serif\" font-size=\"14.00\">MECH</text>\n",
       "</g>\n",
       "<!-- VECT -->\n",
       "<g id=\"node2\" class=\"node\"><title>VECT</title>\n",
       "<ellipse fill=\"none\" stroke=\"black\" cx=\"197.273\" cy=\"-123.257\" rx=\"33.5952\" ry=\"18\"/>\n",
       "<text text-anchor=\"middle\" x=\"197.273\" y=\"-119.557\" font-family=\"Times,serif\" font-size=\"14.00\">VECT</text>\n",
       "</g>\n",
       "<!-- ALG -->\n",
       "<g id=\"node3\" class=\"node\"><title>ALG</title>\n",
       "<ellipse fill=\"none\" stroke=\"black\" cx=\"64.3238\" cy=\"-47.9773\" rx=\"28.6953\" ry=\"18\"/>\n",
       "<text text-anchor=\"middle\" x=\"64.3238\" y=\"-44.2773\" font-family=\"Times,serif\" font-size=\"14.00\">ALG</text>\n",
       "</g>\n",
       "<!-- ANL -->\n",
       "<g id=\"node4\" class=\"node\"><title>ANL</title>\n",
       "<ellipse fill=\"none\" stroke=\"black\" cx=\"109.19\" cy=\"-151.591\" rx=\"28.6953\" ry=\"18\"/>\n",
       "<text text-anchor=\"middle\" x=\"109.19\" y=\"-147.891\" font-family=\"Times,serif\" font-size=\"14.00\">ANL</text>\n",
       "</g>\n",
       "<!-- ANL&#45;&gt;ALG -->\n",
       "<g id=\"edge4\" class=\"edge\"><title>ANL&#45;&gt;ALG</title>\n",
       "<path fill=\"none\" stroke=\"black\" d=\"M101.579,-134.014C93.3289,-114.961 80.2371,-84.727 71.9721,-65.6401\"/>\n",
       "</g>\n",
       "<!-- STAT -->\n",
       "<g id=\"node5\" class=\"node\"><title>STAT</title>\n",
       "<ellipse fill=\"none\" stroke=\"black\" cx=\"169.195\" cy=\"-17.553\" rx=\"32.4942\" ry=\"18\"/>\n",
       "<text text-anchor=\"middle\" x=\"169.195\" y=\"-13.853\" font-family=\"Times,serif\" font-size=\"14.00\">STAT</text>\n",
       "</g>\n",
       "<!-- LAT -->\n",
       "<g id=\"node6\" class=\"node\"><title>LAT</title>\n",
       "<ellipse fill=\"none\" stroke=\"black\" cx=\"144.289\" cy=\"-67.7862\" rx=\"27.8951\" ry=\"18\"/>\n",
       "<text text-anchor=\"middle\" x=\"144.289\" y=\"-64.0862\" font-family=\"Times,serif\" font-size=\"14.00\">LAT</text>\n",
       "</g>\n",
       "<!-- LAT&#45;&gt;MECH -->\n",
       "<g id=\"edge6\" class=\"edge\"><title>LAT&#45;&gt;MECH</title>\n",
       "<path fill=\"none\" stroke=\"black\" d=\"M119.761,-76.5265C103.816,-82.2087 82.9248,-89.6531 66.0202,-95.677\"/>\n",
       "</g>\n",
       "<!-- LAT&#45;&gt;VECT -->\n",
       "<g id=\"edge5\" class=\"edge\"><title>LAT&#45;&gt;VECT</title>\n",
       "<path fill=\"none\" stroke=\"black\" d=\"M159.048,-83.2379C166.152,-90.6752 174.666,-99.5892 181.855,-107.115\"/>\n",
       "</g>\n",
       "<!-- LAT&#45;&gt;ALG -->\n",
       "<g id=\"edge3\" class=\"edge\"><title>LAT&#45;&gt;ALG</title>\n",
       "<path fill=\"none\" stroke=\"black\" d=\"M118.105,-61.3C109.451,-59.1562 99.8136,-56.7688 91.1144,-54.6138\"/>\n",
       "</g>\n",
       "<!-- LAT&#45;&gt;ANL -->\n",
       "<g id=\"edge1\" class=\"edge\"><title>LAT&#45;&gt;ANL</title>\n",
       "<path fill=\"none\" stroke=\"black\" d=\"M136.846,-85.559C130.849,-99.877 122.464,-119.897 116.503,-134.131\"/>\n",
       "</g>\n",
       "<!-- LAT&#45;&gt;STAT -->\n",
       "<g id=\"edge2\" class=\"edge\"><title>LAT&#45;&gt;STAT</title>\n",
       "<path fill=\"none\" stroke=\"black\" d=\"M152.86,-50.4988C155.337,-45.5039 158.041,-40.05 160.523,-35.0428\"/>\n",
       "</g>\n",
       "</g>\n",
       "</svg>\n"
      ],
      "text/plain": [
       "<graphviz.dot.Digraph at 0x7ff76c985780>"
      ]
     },
     "execution_count": 46,
     "metadata": {},
     "output_type": "execute_result"
    }
   ],
   "source": [
    "net_ldmarks = pybnl.bn.StructuralEMNetFromDataDiscreteBayesNetwork(ldmarks)\n",
    "net_ldmarks.fit(ldmarks)\n",
    "net_ldmarks.structure().cpdag().dot()"
   ]
  },
  {
   "cell_type": "code",
   "execution_count": 47,
   "metadata": {},
   "outputs": [
    {
     "data": {
      "text/html": [
       "<div>\n",
       "<style scoped>\n",
       "    .dataframe tbody tr th:only-of-type {\n",
       "        vertical-align: middle;\n",
       "    }\n",
       "\n",
       "    .dataframe tbody tr th {\n",
       "        vertical-align: top;\n",
       "    }\n",
       "\n",
       "    .dataframe thead th {\n",
       "        text-align: right;\n",
       "    }\n",
       "</style>\n",
       "<table border=\"1\" class=\"dataframe\">\n",
       "  <thead>\n",
       "    <tr style=\"text-align: right;\">\n",
       "      <th></th>\n",
       "      <th>MECH</th>\n",
       "      <th>VECT</th>\n",
       "      <th>ALG</th>\n",
       "      <th>ANL</th>\n",
       "      <th>STAT</th>\n",
       "      <th>LAT</th>\n",
       "    </tr>\n",
       "  </thead>\n",
       "  <tbody>\n",
       "    <tr>\n",
       "      <th>0</th>\n",
       "      <td>(49,77]</td>\n",
       "      <td>(60.7,82]</td>\n",
       "      <td>(58.7,80]</td>\n",
       "      <td>(62.3,70]</td>\n",
       "      <td>(53.7,81]</td>\n",
       "      <td>l000</td>\n",
       "    </tr>\n",
       "    <tr>\n",
       "      <th>1</th>\n",
       "      <td>(49,77]</td>\n",
       "      <td>(60.7,82]</td>\n",
       "      <td>(58.7,80]</td>\n",
       "      <td>(62.3,70]</td>\n",
       "      <td>(53.7,81]</td>\n",
       "      <td>l000</td>\n",
       "    </tr>\n",
       "    <tr>\n",
       "      <th>2</th>\n",
       "      <td>(49,77]</td>\n",
       "      <td>(60.7,82]</td>\n",
       "      <td>(58.7,80]</td>\n",
       "      <td>(62.3,70]</td>\n",
       "      <td>(53.7,81]</td>\n",
       "      <td>l000</td>\n",
       "    </tr>\n",
       "    <tr>\n",
       "      <th>3</th>\n",
       "      <td>(49,77]</td>\n",
       "      <td>(60.7,82]</td>\n",
       "      <td>(58.7,80]</td>\n",
       "      <td>(62.3,70]</td>\n",
       "      <td>(53.7,81]</td>\n",
       "      <td>l000</td>\n",
       "    </tr>\n",
       "    <tr>\n",
       "      <th>4</th>\n",
       "      <td>(49,77]</td>\n",
       "      <td>(60.7,82]</td>\n",
       "      <td>(58.7,80]</td>\n",
       "      <td>(62.3,70]</td>\n",
       "      <td>(53.7,81]</td>\n",
       "      <td>l000</td>\n",
       "    </tr>\n",
       "  </tbody>\n",
       "</table>\n",
       "</div>"
      ],
      "text/plain": [
       "      MECH       VECT        ALG        ANL       STAT   LAT\n",
       "0  (49,77]  (60.7,82]  (58.7,80]  (62.3,70]  (53.7,81]  l000\n",
       "1  (49,77]  (60.7,82]  (58.7,80]  (62.3,70]  (53.7,81]  l000\n",
       "2  (49,77]  (60.7,82]  (58.7,80]  (62.3,70]  (53.7,81]  l000\n",
       "3  (49,77]  (60.7,82]  (58.7,80]  (62.3,70]  (53.7,81]  l000\n",
       "4  (49,77]  (60.7,82]  (58.7,80]  (62.3,70]  (53.7,81]  l000"
      ]
     },
     "execution_count": 47,
     "metadata": {},
     "output_type": "execute_result"
    }
   ],
   "source": [
    "net_ldmarks.imputed_.head()"
   ]
  },
  {
   "cell_type": "code",
   "execution_count": 48,
   "metadata": {},
   "outputs": [
    {
     "data": {
      "text/plain": [
       "-498.84965576264955"
      ]
     },
     "execution_count": 48,
     "metadata": {},
     "output_type": "execute_result"
    }
   ],
   "source": [
    "net_ldmarks.score()"
   ]
  },
  {
   "cell_type": "code",
   "execution_count": 49,
   "metadata": {},
   "outputs": [
    {
     "name": "stdout",
     "output_type": "stream",
     "text": [
      "42580\n",
      "identified latent variables: ['LAT']\n"
     ]
    },
    {
     "data": {
      "image/svg+xml": [
       "<?xml version=\"1.0\" encoding=\"UTF-8\" standalone=\"no\"?>\n",
       "<!DOCTYPE svg PUBLIC \"-//W3C//DTD SVG 1.1//EN\"\n",
       " \"http://www.w3.org/Graphics/SVG/1.1/DTD/svg11.dtd\">\n",
       "<!-- Generated by graphviz version 2.36.0 (20140111.2315)\n",
       " -->\n",
       "<!-- Title: %3 Pages: 1 -->\n",
       "<svg width=\"234pt\" height=\"195pt\"\n",
       " viewBox=\"0.00 0.00 234.00 195.00\" xmlns=\"http://www.w3.org/2000/svg\" xmlns:xlink=\"http://www.w3.org/1999/xlink\">\n",
       "<g id=\"graph0\" class=\"graph\" transform=\"scale(1 1) rotate(0) translate(4 191)\">\n",
       "<title>%3</title>\n",
       "<polygon fill=\"white\" stroke=\"none\" points=\"-4,4 -4,-191 230,-191 230,4 -4,4\"/>\n",
       "<!-- MECH -->\n",
       "<g id=\"node1\" class=\"node\"><title>MECH</title>\n",
       "<ellipse fill=\"none\" stroke=\"black\" cx=\"36.6993\" cy=\"-93.7577\" rx=\"36.2938\" ry=\"18\"/>\n",
       "<text text-anchor=\"middle\" x=\"36.6993\" y=\"-90.0577\" font-family=\"Times,serif\" font-size=\"14.00\">MECH</text>\n",
       "</g>\n",
       "<!-- VECT -->\n",
       "<g id=\"node2\" class=\"node\"><title>VECT</title>\n",
       "<ellipse fill=\"none\" stroke=\"black\" cx=\"192.109\" cy=\"-121.966\" rx=\"33.5952\" ry=\"18\"/>\n",
       "<text text-anchor=\"middle\" x=\"192.109\" y=\"-118.266\" font-family=\"Times,serif\" font-size=\"14.00\">VECT</text>\n",
       "</g>\n",
       "<!-- ALG -->\n",
       "<g id=\"node3\" class=\"node\"><title>ALG</title>\n",
       "<ellipse fill=\"none\" stroke=\"black\" cx=\"75.9731\" cy=\"-17.5806\" rx=\"28.6953\" ry=\"18\"/>\n",
       "<text text-anchor=\"middle\" x=\"75.9731\" y=\"-13.8806\" font-family=\"Times,serif\" font-size=\"14.00\">ALG</text>\n",
       "</g>\n",
       "<!-- ANL -->\n",
       "<g id=\"node4\" class=\"node\"><title>ANL</title>\n",
       "<ellipse fill=\"none\" stroke=\"black\" cx=\"98.9463\" cy=\"-169.499\" rx=\"28.6953\" ry=\"18\"/>\n",
       "<text text-anchor=\"middle\" x=\"98.9463\" y=\"-165.799\" font-family=\"Times,serif\" font-size=\"14.00\">ANL</text>\n",
       "</g>\n",
       "<!-- STAT -->\n",
       "<g id=\"node5\" class=\"node\"><title>STAT</title>\n",
       "<ellipse fill=\"none\" stroke=\"black\" cx=\"176.954\" cy=\"-28.3615\" rx=\"32.4942\" ry=\"18\"/>\n",
       "<text text-anchor=\"middle\" x=\"176.954\" y=\"-24.6615\" font-family=\"Times,serif\" font-size=\"14.00\">STAT</text>\n",
       "</g>\n",
       "<!-- LAT -->\n",
       "<g id=\"node6\" class=\"node\"><title>LAT</title>\n",
       "<ellipse fill=\"none\" stroke=\"black\" cx=\"116.316\" cy=\"-76.7631\" rx=\"27.8951\" ry=\"18\"/>\n",
       "<text text-anchor=\"middle\" x=\"116.316\" y=\"-73.0631\" font-family=\"Times,serif\" font-size=\"14.00\">LAT</text>\n",
       "</g>\n",
       "<!-- LAT&#45;&gt;MECH -->\n",
       "<g id=\"edge5\" class=\"edge\"><title>LAT&#45;&gt;MECH</title>\n",
       "<path fill=\"none\" stroke=\"black\" d=\"M89.3614,-82.5167C83.2262,-83.8263 76.6346,-85.2333 70.2621,-86.5935\"/>\n",
       "</g>\n",
       "<!-- LAT&#45;&gt;VECT -->\n",
       "<g id=\"edge4\" class=\"edge\"><title>LAT&#45;&gt;VECT</title>\n",
       "<path fill=\"none\" stroke=\"black\" d=\"M137.027,-89.1149C147.108,-95.1272 159.247,-102.367 169.561,-108.518\"/>\n",
       "</g>\n",
       "<!-- LAT&#45;&gt;ALG -->\n",
       "<g id=\"edge3\" class=\"edge\"><title>LAT&#45;&gt;ALG</title>\n",
       "<path fill=\"none\" stroke=\"black\" d=\"M105.078,-60.2775C99.576,-52.2057 92.9624,-42.5036 87.4309,-34.389\"/>\n",
       "</g>\n",
       "<!-- LAT&#45;&gt;ANL -->\n",
       "<g id=\"edge1\" class=\"edge\"><title>LAT&#45;&gt;ANL</title>\n",
       "<path fill=\"none\" stroke=\"black\" d=\"M112.967,-94.6435C109.911,-110.96 105.416,-134.959 102.344,-151.357\"/>\n",
       "</g>\n",
       "<!-- LAT&#45;&gt;STAT -->\n",
       "<g id=\"edge2\" class=\"edge\"><title>LAT&#45;&gt;STAT</title>\n",
       "<path fill=\"none\" stroke=\"black\" d=\"M134.182,-62.5028C141.728,-56.4796 150.519,-49.462 158.163,-43.3611\"/>\n",
       "</g>\n",
       "</g>\n",
       "</svg>\n"
      ],
      "text/plain": [
       "<graphviz.dot.Digraph at 0x7ff76c6b3780>"
      ]
     },
     "execution_count": 49,
     "metadata": {},
     "output_type": "execute_result"
    }
   ],
   "source": [
    "random.seed()\n",
    "seed = random.randint(1,100000)\n",
    "seed = 42580\n",
    "print(seed)\n",
    "net_ldmarks = pybnl.bn.StructuralEMNetFromDataDiscreteBayesNetwork(ldmarks)\n",
    "net_ldmarks.fit(seed=seed)\n",
    "net_ldmarks.structure().cpdag().dot()"
   ]
  },
  {
   "cell_type": "code",
   "execution_count": 50,
   "metadata": {},
   "outputs": [
    {
     "data": {
      "text/html": [
       "<div>\n",
       "<style scoped>\n",
       "    .dataframe tbody tr th:only-of-type {\n",
       "        vertical-align: middle;\n",
       "    }\n",
       "\n",
       "    .dataframe tbody tr th {\n",
       "        vertical-align: top;\n",
       "    }\n",
       "\n",
       "    .dataframe thead th {\n",
       "        text-align: right;\n",
       "    }\n",
       "</style>\n",
       "<table border=\"1\" class=\"dataframe\">\n",
       "  <thead>\n",
       "    <tr style=\"text-align: right;\">\n",
       "      <th></th>\n",
       "      <th>MECH</th>\n",
       "      <th>VECT</th>\n",
       "      <th>ALG</th>\n",
       "      <th>ANL</th>\n",
       "      <th>STAT</th>\n",
       "      <th>LAT</th>\n",
       "    </tr>\n",
       "  </thead>\n",
       "  <tbody>\n",
       "    <tr>\n",
       "      <th>0</th>\n",
       "      <td>(49,77]</td>\n",
       "      <td>(60.7,82]</td>\n",
       "      <td>(58.7,80]</td>\n",
       "      <td>(62.3,70]</td>\n",
       "      <td>(53.7,81]</td>\n",
       "      <td>l000</td>\n",
       "    </tr>\n",
       "    <tr>\n",
       "      <th>1</th>\n",
       "      <td>(49,77]</td>\n",
       "      <td>(60.7,82]</td>\n",
       "      <td>(58.7,80]</td>\n",
       "      <td>(62.3,70]</td>\n",
       "      <td>(53.7,81]</td>\n",
       "      <td>l000</td>\n",
       "    </tr>\n",
       "    <tr>\n",
       "      <th>2</th>\n",
       "      <td>(49,77]</td>\n",
       "      <td>(60.7,82]</td>\n",
       "      <td>(58.7,80]</td>\n",
       "      <td>(62.3,70]</td>\n",
       "      <td>(53.7,81]</td>\n",
       "      <td>l000</td>\n",
       "    </tr>\n",
       "    <tr>\n",
       "      <th>3</th>\n",
       "      <td>(49,77]</td>\n",
       "      <td>(60.7,82]</td>\n",
       "      <td>(58.7,80]</td>\n",
       "      <td>(62.3,70]</td>\n",
       "      <td>(53.7,81]</td>\n",
       "      <td>l000</td>\n",
       "    </tr>\n",
       "    <tr>\n",
       "      <th>4</th>\n",
       "      <td>(49,77]</td>\n",
       "      <td>(60.7,82]</td>\n",
       "      <td>(58.7,80]</td>\n",
       "      <td>(62.3,70]</td>\n",
       "      <td>(53.7,81]</td>\n",
       "      <td>l000</td>\n",
       "    </tr>\n",
       "  </tbody>\n",
       "</table>\n",
       "</div>"
      ],
      "text/plain": [
       "      MECH       VECT        ALG        ANL       STAT   LAT\n",
       "0  (49,77]  (60.7,82]  (58.7,80]  (62.3,70]  (53.7,81]  l000\n",
       "1  (49,77]  (60.7,82]  (58.7,80]  (62.3,70]  (53.7,81]  l000\n",
       "2  (49,77]  (60.7,82]  (58.7,80]  (62.3,70]  (53.7,81]  l000\n",
       "3  (49,77]  (60.7,82]  (58.7,80]  (62.3,70]  (53.7,81]  l000\n",
       "4  (49,77]  (60.7,82]  (58.7,80]  (62.3,70]  (53.7,81]  l000"
      ]
     },
     "execution_count": 50,
     "metadata": {},
     "output_type": "execute_result"
    }
   ],
   "source": [
    "net_ldmarks.imputed_.head()"
   ]
  },
  {
   "cell_type": "code",
   "execution_count": 51,
   "metadata": {},
   "outputs": [
    {
     "data": {
      "text/plain": [
       "-436.0868919125586"
      ]
     },
     "execution_count": 51,
     "metadata": {},
     "output_type": "execute_result"
    }
   ],
   "source": [
    "net_ldmarks.score()"
   ]
  },
  {
   "cell_type": "markdown",
   "metadata": {},
   "source": [
    "### Comparison to literature example\n",
    "\n",
    "Let's compare this to the example values and network given in [Bayesian Networks in R](https://books.google.de/books?id=OCy5BAAAQBAJ&lpg=PP1&hl=de&pg=PP1#v=onepage&q&f=false) on page 45:"
   ]
  },
  {
   "cell_type": "code",
   "execution_count": 52,
   "metadata": {},
   "outputs": [
    {
     "data": {
      "text/plain": [
       "0    A\n",
       "1    A\n",
       "2    A\n",
       "3    A\n",
       "4    A\n",
       "Name: latent, dtype: category\n",
       "Categories (2, object): [A, B]"
      ]
     },
     "execution_count": 52,
     "metadata": {},
     "output_type": "execute_result"
    }
   ],
   "source": [
    "latent = pd.Series(['A']*44 + ['B'] + ['A']*7 + ['B']*36,name='latent')\n",
    "latent = latent.astype(pd.api.types.CategoricalDtype(['A', 'B'], ordered=False))\n",
    "latent.head()"
   ]
  },
  {
   "cell_type": "code",
   "execution_count": 53,
   "metadata": {},
   "outputs": [],
   "source": [
    "d_marks_with_latent = dmarks.copy()\n",
    "d_marks_with_latent['LAT'] = latent"
   ]
  },
  {
   "cell_type": "code",
   "execution_count": 54,
   "metadata": {},
   "outputs": [
    {
     "data": {
      "image/svg+xml": [
       "<?xml version=\"1.0\" encoding=\"UTF-8\" standalone=\"no\"?>\n",
       "<!DOCTYPE svg PUBLIC \"-//W3C//DTD SVG 1.1//EN\"\n",
       " \"http://www.w3.org/Graphics/SVG/1.1/DTD/svg11.dtd\">\n",
       "<!-- Generated by graphviz version 2.36.0 (20140111.2315)\n",
       " -->\n",
       "<!-- Title: %3 Pages: 1 -->\n",
       "<svg width=\"234pt\" height=\"195pt\"\n",
       " viewBox=\"0.00 0.00 234.00 195.00\" xmlns=\"http://www.w3.org/2000/svg\" xmlns:xlink=\"http://www.w3.org/1999/xlink\">\n",
       "<g id=\"graph0\" class=\"graph\" transform=\"scale(1 1) rotate(0) translate(4 191)\">\n",
       "<title>%3</title>\n",
       "<polygon fill=\"white\" stroke=\"none\" points=\"-4,4 -4,-191 230,-191 230,4 -4,4\"/>\n",
       "<!-- MECH -->\n",
       "<g id=\"node1\" class=\"node\"><title>MECH</title>\n",
       "<ellipse fill=\"none\" stroke=\"black\" cx=\"36.6993\" cy=\"-93.7577\" rx=\"36.2938\" ry=\"18\"/>\n",
       "<text text-anchor=\"middle\" x=\"36.6993\" y=\"-90.0577\" font-family=\"Times,serif\" font-size=\"14.00\">MECH</text>\n",
       "</g>\n",
       "<!-- LAT -->\n",
       "<g id=\"node6\" class=\"node\"><title>LAT</title>\n",
       "<ellipse fill=\"none\" stroke=\"black\" cx=\"116.316\" cy=\"-76.7631\" rx=\"27.8951\" ry=\"18\"/>\n",
       "<text text-anchor=\"middle\" x=\"116.316\" y=\"-73.0631\" font-family=\"Times,serif\" font-size=\"14.00\">LAT</text>\n",
       "</g>\n",
       "<!-- MECH&#45;&gt;LAT -->\n",
       "<g id=\"edge1\" class=\"edge\"><title>MECH&#45;&gt;LAT</title>\n",
       "<path fill=\"none\" stroke=\"black\" d=\"M70.464,-86.5504C73.5843,-85.8844 76.7554,-85.2075 79.8981,-84.5367\"/>\n",
       "<polygon fill=\"black\" stroke=\"black\" points=\"80.6935,-87.9458 89.7426,-82.4353 79.2322,-81.1 80.6935,-87.9458\"/>\n",
       "</g>\n",
       "<!-- VECT -->\n",
       "<g id=\"node2\" class=\"node\"><title>VECT</title>\n",
       "<ellipse fill=\"none\" stroke=\"black\" cx=\"192.109\" cy=\"-121.966\" rx=\"33.5952\" ry=\"18\"/>\n",
       "<text text-anchor=\"middle\" x=\"192.109\" y=\"-118.266\" font-family=\"Times,serif\" font-size=\"14.00\">VECT</text>\n",
       "</g>\n",
       "<!-- ALG -->\n",
       "<g id=\"node3\" class=\"node\"><title>ALG</title>\n",
       "<ellipse fill=\"none\" stroke=\"black\" cx=\"75.9731\" cy=\"-17.5806\" rx=\"28.6953\" ry=\"18\"/>\n",
       "<text text-anchor=\"middle\" x=\"75.9731\" y=\"-13.8806\" font-family=\"Times,serif\" font-size=\"14.00\">ALG</text>\n",
       "</g>\n",
       "<!-- ANL -->\n",
       "<g id=\"node4\" class=\"node\"><title>ANL</title>\n",
       "<ellipse fill=\"none\" stroke=\"black\" cx=\"98.9463\" cy=\"-169.499\" rx=\"28.6953\" ry=\"18\"/>\n",
       "<text text-anchor=\"middle\" x=\"98.9463\" y=\"-165.799\" font-family=\"Times,serif\" font-size=\"14.00\">ANL</text>\n",
       "</g>\n",
       "<!-- ANL&#45;&gt;LAT -->\n",
       "<g id=\"edge2\" class=\"edge\"><title>ANL&#45;&gt;LAT</title>\n",
       "<path fill=\"none\" stroke=\"black\" d=\"M102.295,-151.619C104.778,-138.362 108.212,-120.032 111.059,-104.83\"/>\n",
       "<polygon fill=\"black\" stroke=\"black\" points=\"114.517,-105.378 112.918,-94.905 107.637,-104.09 114.517,-105.378\"/>\n",
       "</g>\n",
       "<!-- STAT -->\n",
       "<g id=\"node5\" class=\"node\"><title>STAT</title>\n",
       "<ellipse fill=\"none\" stroke=\"black\" cx=\"176.954\" cy=\"-28.3615\" rx=\"32.4942\" ry=\"18\"/>\n",
       "<text text-anchor=\"middle\" x=\"176.954\" y=\"-24.6615\" font-family=\"Times,serif\" font-size=\"14.00\">STAT</text>\n",
       "</g>\n",
       "<!-- LAT&#45;&gt;VECT -->\n",
       "<g id=\"edge3\" class=\"edge\"><title>LAT&#45;&gt;VECT</title>\n",
       "<path fill=\"none\" stroke=\"black\" d=\"M137.027,-89.1149C144.351,-93.4832 152.762,-98.4995 160.77,-103.276\"/>\n",
       "<polygon fill=\"black\" stroke=\"black\" points=\"159.18,-106.402 169.561,-108.518 162.765,-100.39 159.18,-106.402\"/>\n",
       "</g>\n",
       "<!-- LAT&#45;&gt;ALG -->\n",
       "<g id=\"edge5\" class=\"edge\"><title>LAT&#45;&gt;ALG</title>\n",
       "<path fill=\"none\" stroke=\"black\" d=\"M105.078,-60.2775C101.381,-54.8542 97.1829,-48.6951 93.148,-42.7759\"/>\n",
       "<polygon fill=\"black\" stroke=\"black\" points=\"95.9555,-40.6805 87.4309,-34.389 90.1715,-44.6233 95.9555,-40.6805\"/>\n",
       "</g>\n",
       "<!-- LAT&#45;&gt;STAT -->\n",
       "<g id=\"edge4\" class=\"edge\"><title>LAT&#45;&gt;STAT</title>\n",
       "<path fill=\"none\" stroke=\"black\" d=\"M134.182,-62.5028C139.134,-58.55 144.622,-54.1691 149.971,-49.9\"/>\n",
       "<polygon fill=\"black\" stroke=\"black\" points=\"152.53,-52.335 158.163,-43.3611 148.164,-46.8641 152.53,-52.335\"/>\n",
       "</g>\n",
       "</g>\n",
       "</svg>\n"
      ],
      "text/plain": [
       "<graphviz.dot.Digraph at 0x7ff76c716278>"
      ]
     },
     "execution_count": 54,
     "metadata": {},
     "output_type": "execute_result"
    }
   ],
   "source": [
    "dg_marks_with_latent = nx.DiGraph()\n",
    "# G.add_node(1)\n",
    "dg_marks_with_latent.add_nodes_from(list(d_marks_with_latent.columns))\n",
    "dg_marks_with_latent.add_edges_from([\n",
    "    ['ANL', 'LAT'],\n",
    "    ['MECH', 'LAT'],\n",
    "    ['LAT', 'VECT'],\n",
    "    ['LAT', 'STAT'],\n",
    "    ['LAT', 'ALG'],\n",
    "])\n",
    "pybnl.bn.dot(dg_marks_with_latent.nodes(), list(dg_marks_with_latent.edges()), [])"
   ]
  },
  {
   "cell_type": "markdown",
   "metadata": {},
   "source": [
    "First of all we note that the \"correlation\" between the given sequence and the one we reconstructed via `StructuralEMNetFromDataDiscreteBayesNetwork` is only \"moderate\":"
   ]
  },
  {
   "cell_type": "code",
   "execution_count": 55,
   "metadata": {},
   "outputs": [
    {
     "data": {
      "text/plain": [
       "0.45645370177516836"
      ]
     },
     "execution_count": 55,
     "metadata": {},
     "output_type": "execute_result"
    }
   ],
   "source": [
    "pybnl.bn.relative_mutual_information(latent, net_ldmarks.imputed_['LAT'])"
   ]
  },
  {
   "cell_type": "markdown",
   "metadata": {},
   "source": [
    "Let's look at fitting the given network and data and see the score of this result:"
   ]
  },
  {
   "cell_type": "code",
   "execution_count": 56,
   "metadata": {},
   "outputs": [
    {
     "data": {
      "text/html": [
       "<div>\n",
       "<style scoped>\n",
       "    .dataframe tbody tr th:only-of-type {\n",
       "        vertical-align: middle;\n",
       "    }\n",
       "\n",
       "    .dataframe tbody tr th {\n",
       "        vertical-align: top;\n",
       "    }\n",
       "\n",
       "    .dataframe thead th {\n",
       "        text-align: right;\n",
       "    }\n",
       "</style>\n",
       "<table border=\"1\" class=\"dataframe\">\n",
       "  <thead>\n",
       "    <tr style=\"text-align: right;\">\n",
       "      <th></th>\n",
       "      <th>MECH</th>\n",
       "      <th>VECT</th>\n",
       "      <th>ALG</th>\n",
       "      <th>ANL</th>\n",
       "      <th>STAT</th>\n",
       "      <th>LAT</th>\n",
       "    </tr>\n",
       "  </thead>\n",
       "  <tbody>\n",
       "    <tr>\n",
       "      <th>0</th>\n",
       "      <td>(49,77]</td>\n",
       "      <td>(60.7,82]</td>\n",
       "      <td>(58.7,80]</td>\n",
       "      <td>(62.3,70]</td>\n",
       "      <td>(53.7,81]</td>\n",
       "      <td>A</td>\n",
       "    </tr>\n",
       "    <tr>\n",
       "      <th>1</th>\n",
       "      <td>(49,77]</td>\n",
       "      <td>(60.7,82]</td>\n",
       "      <td>(58.7,80]</td>\n",
       "      <td>(62.3,70]</td>\n",
       "      <td>(53.7,81]</td>\n",
       "      <td>A</td>\n",
       "    </tr>\n",
       "    <tr>\n",
       "      <th>2</th>\n",
       "      <td>(49,77]</td>\n",
       "      <td>(60.7,82]</td>\n",
       "      <td>(58.7,80]</td>\n",
       "      <td>(62.3,70]</td>\n",
       "      <td>(53.7,81]</td>\n",
       "      <td>A</td>\n",
       "    </tr>\n",
       "    <tr>\n",
       "      <th>3</th>\n",
       "      <td>(49,77]</td>\n",
       "      <td>(60.7,82]</td>\n",
       "      <td>(58.7,80]</td>\n",
       "      <td>(62.3,70]</td>\n",
       "      <td>(53.7,81]</td>\n",
       "      <td>A</td>\n",
       "    </tr>\n",
       "    <tr>\n",
       "      <th>4</th>\n",
       "      <td>(49,77]</td>\n",
       "      <td>(60.7,82]</td>\n",
       "      <td>(58.7,80]</td>\n",
       "      <td>(62.3,70]</td>\n",
       "      <td>(53.7,81]</td>\n",
       "      <td>A</td>\n",
       "    </tr>\n",
       "  </tbody>\n",
       "</table>\n",
       "</div>"
      ],
      "text/plain": [
       "      MECH       VECT        ALG        ANL       STAT LAT\n",
       "0  (49,77]  (60.7,82]  (58.7,80]  (62.3,70]  (53.7,81]   A\n",
       "1  (49,77]  (60.7,82]  (58.7,80]  (62.3,70]  (53.7,81]   A\n",
       "2  (49,77]  (60.7,82]  (58.7,80]  (62.3,70]  (53.7,81]   A\n",
       "3  (49,77]  (60.7,82]  (58.7,80]  (62.3,70]  (53.7,81]   A\n",
       "4  (49,77]  (60.7,82]  (58.7,80]  (62.3,70]  (53.7,81]   A"
      ]
     },
     "execution_count": 56,
     "metadata": {},
     "output_type": "execute_result"
    }
   ],
   "source": [
    "d_marks_with_latent.head()"
   ]
  },
  {
   "cell_type": "code",
   "execution_count": 57,
   "metadata": {},
   "outputs": [
    {
     "data": {
      "text/plain": [
       "-459.49059682403055"
      ]
     },
     "execution_count": 57,
     "metadata": {},
     "output_type": "execute_result"
    }
   ],
   "source": [
    "net_dmarks_with_latent = pybnl.bn.NetAndDataDiscreteBayesNetwork(d_marks_with_latent, dg=dg_marks_with_latent)\n",
    "net_dmarks_with_latent.fit()\n",
    "net_dmarks_with_latent.score()"
   ]
  },
  {
   "cell_type": "markdown",
   "metadata": {},
   "source": [
    "The score is slightly worse than the one we got above, e.g. our values we reconstructed via `StructuralEMNetFromDataDiscreteBayesNetwork` are a better fit. One important comment here: the example in the literature is not discretized, e.g. the values here are not one-to-one comparable."
   ]
  }
 ],
 "metadata": {
  "kernelspec": {
   "display_name": "Python 3",
   "language": "python",
   "name": "python3"
  },
  "language_info": {
   "codemirror_mode": {
    "name": "ipython",
    "version": 3
   },
   "file_extension": ".py",
   "mimetype": "text/x-python",
   "name": "python",
   "nbconvert_exporter": "python",
   "pygments_lexer": "ipython3",
   "version": "3.6.4"
  }
 },
 "nbformat": 4,
 "nbformat_minor": 2
}
